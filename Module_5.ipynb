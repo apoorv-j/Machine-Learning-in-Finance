{
 "cells": [
  {
   "cell_type": "code",
   "execution_count": 1,
   "metadata": {},
   "outputs": [],
   "source": [
    "import pandas as pd\n",
    "import numpy as np\n",
    "import matplotlib.pyplot as plt\n",
    "import seaborn as sns"
   ]
  },
  {
   "cell_type": "markdown",
   "metadata": {},
   "source": [
    "## 5.1"
   ]
  },
  {
   "cell_type": "code",
   "execution_count": 2,
   "metadata": {},
   "outputs": [
    {
     "data": {
      "text/html": [
       "<div>\n",
       "<style scoped>\n",
       "    .dataframe tbody tr th:only-of-type {\n",
       "        vertical-align: middle;\n",
       "    }\n",
       "\n",
       "    .dataframe tbody tr th {\n",
       "        vertical-align: top;\n",
       "    }\n",
       "\n",
       "    .dataframe thead th {\n",
       "        text-align: right;\n",
       "    }\n",
       "</style>\n",
       "<table border=\"1\" class=\"dataframe\">\n",
       "  <thead>\n",
       "    <tr style=\"text-align: right;\">\n",
       "      <th></th>\n",
       "      <th>Unnamed: 0</th>\n",
       "      <th>Symbol</th>\n",
       "      <th>Series</th>\n",
       "      <th>Date</th>\n",
       "      <th>Prev Close</th>\n",
       "      <th>Open Price</th>\n",
       "      <th>High Price</th>\n",
       "      <th>Low Price</th>\n",
       "      <th>Last Price</th>\n",
       "      <th>Close Price</th>\n",
       "      <th>...</th>\n",
       "      <th>Total Traded Quantity</th>\n",
       "      <th>Turnover</th>\n",
       "      <th>No. of Trades</th>\n",
       "      <th>Deliverable Qty</th>\n",
       "      <th>% Dly Qt to Traded Qty</th>\n",
       "      <th>month</th>\n",
       "      <th>year</th>\n",
       "      <th>vwap</th>\n",
       "      <th>Day_Perc_Change</th>\n",
       "      <th>Trend</th>\n",
       "    </tr>\n",
       "  </thead>\n",
       "  <tbody>\n",
       "    <tr>\n",
       "      <th>0</th>\n",
       "      <td>0</td>\n",
       "      <td>MARUTI</td>\n",
       "      <td>EQ</td>\n",
       "      <td>2017-05-15</td>\n",
       "      <td>6730.20</td>\n",
       "      <td>6759.4</td>\n",
       "      <td>6839.10</td>\n",
       "      <td>6733.45</td>\n",
       "      <td>6824.0</td>\n",
       "      <td>6823.90</td>\n",
       "      <td>...</td>\n",
       "      <td>336356</td>\n",
       "      <td>2.286158e+09</td>\n",
       "      <td>31377</td>\n",
       "      <td>154743</td>\n",
       "      <td>46.01</td>\n",
       "      <td>5</td>\n",
       "      <td>2017</td>\n",
       "      <td>6796.840000</td>\n",
       "      <td>0.000000</td>\n",
       "      <td>Slight or No change</td>\n",
       "    </tr>\n",
       "    <tr>\n",
       "      <th>1</th>\n",
       "      <td>1</td>\n",
       "      <td>MARUTI</td>\n",
       "      <td>EQ</td>\n",
       "      <td>2017-05-16</td>\n",
       "      <td>6823.90</td>\n",
       "      <td>6850.0</td>\n",
       "      <td>6977.55</td>\n",
       "      <td>6830.00</td>\n",
       "      <td>6968.4</td>\n",
       "      <td>6953.95</td>\n",
       "      <td>...</td>\n",
       "      <td>707624</td>\n",
       "      <td>4.884174e+09</td>\n",
       "      <td>49047</td>\n",
       "      <td>360641</td>\n",
       "      <td>50.97</td>\n",
       "      <td>5</td>\n",
       "      <td>2017</td>\n",
       "      <td>6868.268013</td>\n",
       "      <td>1.905802</td>\n",
       "      <td>Positive</td>\n",
       "    </tr>\n",
       "    <tr>\n",
       "      <th>2</th>\n",
       "      <td>2</td>\n",
       "      <td>MARUTI</td>\n",
       "      <td>EQ</td>\n",
       "      <td>2017-05-17</td>\n",
       "      <td>6953.95</td>\n",
       "      <td>6950.0</td>\n",
       "      <td>6979.00</td>\n",
       "      <td>6885.85</td>\n",
       "      <td>6945.0</td>\n",
       "      <td>6958.20</td>\n",
       "      <td>...</td>\n",
       "      <td>445461</td>\n",
       "      <td>3.087758e+09</td>\n",
       "      <td>65280</td>\n",
       "      <td>260033</td>\n",
       "      <td>58.37</td>\n",
       "      <td>5</td>\n",
       "      <td>2017</td>\n",
       "      <td>6887.209301</td>\n",
       "      <td>0.061116</td>\n",
       "      <td>Slight or No change</td>\n",
       "    </tr>\n",
       "    <tr>\n",
       "      <th>3</th>\n",
       "      <td>3</td>\n",
       "      <td>MARUTI</td>\n",
       "      <td>EQ</td>\n",
       "      <td>2017-05-18</td>\n",
       "      <td>6958.20</td>\n",
       "      <td>6918.3</td>\n",
       "      <td>6948.00</td>\n",
       "      <td>6814.45</td>\n",
       "      <td>6822.0</td>\n",
       "      <td>6831.05</td>\n",
       "      <td>...</td>\n",
       "      <td>406814</td>\n",
       "      <td>2.794684e+09</td>\n",
       "      <td>37063</td>\n",
       "      <td>188907</td>\n",
       "      <td>46.44</td>\n",
       "      <td>5</td>\n",
       "      <td>2017</td>\n",
       "      <td>6883.448643</td>\n",
       "      <td>-1.827340</td>\n",
       "      <td>Negative</td>\n",
       "    </tr>\n",
       "    <tr>\n",
       "      <th>4</th>\n",
       "      <td>4</td>\n",
       "      <td>MARUTI</td>\n",
       "      <td>EQ</td>\n",
       "      <td>2017-05-19</td>\n",
       "      <td>6831.05</td>\n",
       "      <td>6854.8</td>\n",
       "      <td>6893.90</td>\n",
       "      <td>6691.55</td>\n",
       "      <td>6756.3</td>\n",
       "      <td>6790.55</td>\n",
       "      <td>...</td>\n",
       "      <td>552223</td>\n",
       "      <td>3.750475e+09</td>\n",
       "      <td>64293</td>\n",
       "      <td>234662</td>\n",
       "      <td>42.49</td>\n",
       "      <td>5</td>\n",
       "      <td>2017</td>\n",
       "      <td>6862.733353</td>\n",
       "      <td>-0.592881</td>\n",
       "      <td>Slight negative</td>\n",
       "    </tr>\n",
       "  </tbody>\n",
       "</table>\n",
       "<p>5 rows × 21 columns</p>\n",
       "</div>"
      ],
      "text/plain": [
       "   Unnamed: 0  Symbol Series        Date  Prev Close  Open Price  High Price  \\\n",
       "0           0  MARUTI     EQ  2017-05-15     6730.20      6759.4     6839.10   \n",
       "1           1  MARUTI     EQ  2017-05-16     6823.90      6850.0     6977.55   \n",
       "2           2  MARUTI     EQ  2017-05-17     6953.95      6950.0     6979.00   \n",
       "3           3  MARUTI     EQ  2017-05-18     6958.20      6918.3     6948.00   \n",
       "4           4  MARUTI     EQ  2017-05-19     6831.05      6854.8     6893.90   \n",
       "\n",
       "   Low Price  Last Price  Close Price  ...  Total Traded Quantity  \\\n",
       "0    6733.45      6824.0      6823.90  ...                 336356   \n",
       "1    6830.00      6968.4      6953.95  ...                 707624   \n",
       "2    6885.85      6945.0      6958.20  ...                 445461   \n",
       "3    6814.45      6822.0      6831.05  ...                 406814   \n",
       "4    6691.55      6756.3      6790.55  ...                 552223   \n",
       "\n",
       "       Turnover  No. of Trades  Deliverable Qty  % Dly Qt to Traded Qty  \\\n",
       "0  2.286158e+09          31377           154743                   46.01   \n",
       "1  4.884174e+09          49047           360641                   50.97   \n",
       "2  3.087758e+09          65280           260033                   58.37   \n",
       "3  2.794684e+09          37063           188907                   46.44   \n",
       "4  3.750475e+09          64293           234662                   42.49   \n",
       "\n",
       "   month  year         vwap  Day_Perc_Change                Trend  \n",
       "0      5  2017  6796.840000         0.000000  Slight or No change  \n",
       "1      5  2017  6868.268013         1.905802             Positive  \n",
       "2      5  2017  6887.209301         0.061116  Slight or No change  \n",
       "3      5  2017  6883.448643        -1.827340             Negative  \n",
       "4      5  2017  6862.733353        -0.592881      Slight negative  \n",
       "\n",
       "[5 rows x 21 columns]"
      ]
     },
     "execution_count": 2,
     "metadata": {},
     "output_type": "execute_result"
    }
   ],
   "source": [
    "data = pd.read_csv('week2.csv')\n",
    "data.head()"
   ]
  },
  {
   "cell_type": "code",
   "execution_count": 3,
   "metadata": {},
   "outputs": [
    {
     "name": "stdout",
     "output_type": "stream",
     "text": [
      "The daily return of this stock on an average is: 0.0015590385872745838\n",
      "The standard deviation of daily return of this stock is: 1.4173824829790356\n",
      "The annual return of this stock is: 0.3928777239931951\n",
      "The Volatility of this stock is: 22.50024937573061\n"
     ]
    }
   ],
   "source": [
    "mean_daily_return = np.mean(data['Day_Perc_Change'])\n",
    "\n",
    "std_daily_return = np.std(data['Day_Perc_Change'])\n",
    "\n",
    "annual_return = mean_daily_return * 252\n",
    "volatility = std_daily_return * np.sqrt(252)\n",
    "print(f'The daily return of this stock on an average is: {mean_daily_return}')\n",
    "print(f'The standard deviation of daily return of this stock is: {std_daily_return}')\n",
    "print(f'The annual return of this stock is: {annual_return}')\n",
    "print(f'The Volatility of this stock is: {volatility}')"
   ]
  },
  {
   "cell_type": "markdown",
   "metadata": {},
   "source": [
    "## 5.2"
   ]
  },
  {
   "cell_type": "code",
   "execution_count": 4,
   "metadata": {},
   "outputs": [
    {
     "name": "stdout",
     "output_type": "stream",
     "text": [
      "(494, 15)\n",
      "(494, 15)\n"
     ]
    }
   ],
   "source": [
    "data1 = pd.read_csv('./Mid_Cap/EXIDEIND.csv')\n",
    "#data1.head()\n",
    "data2 = pd.read_csv('./Mid_Cap/APOLLOTYRE.csv')\n",
    "print(data1.shape)\n",
    "print(data2.shape)"
   ]
  },
  {
   "cell_type": "code",
   "execution_count": 5,
   "metadata": {},
   "outputs": [
    {
     "name": "stdout",
     "output_type": "stream",
     "text": [
      "(495, 15)\n",
      "(495, 15)\n",
      "(494, 15)\n"
     ]
    }
   ],
   "source": [
    "data3 = pd.read_csv('./Large_Cap/AXISBANK.csv')\n",
    "data4 = pd.read_csv('./Large_Cap/HINDALCO.csv')\n",
    "data5 = pd.read_csv('./Large_Cap/GAIL.csv')\n",
    "print(data3.shape)\n",
    "print(data4.shape)\n",
    "print(data5.shape)"
   ]
  },
  {
   "cell_type": "code",
   "execution_count": 6,
   "metadata": {},
   "outputs": [],
   "source": [
    "## dropping rows other than EQ\n",
    "data1 = data1.where(data1.Series=='EQ')\n",
    "data2 = data2.where(data2.Series=='EQ')\n",
    "data3 = data3.where(data3.Series=='EQ')\n",
    "data4 = data4.where(data4.Series=='EQ')\n",
    "data5 = data5.where(data5.Series=='EQ')"
   ]
  },
  {
   "cell_type": "code",
   "execution_count": 7,
   "metadata": {},
   "outputs": [
    {
     "name": "stdout",
     "output_type": "stream",
     "text": [
      "(494, 5)\n"
     ]
    }
   ],
   "source": [
    "portfolio = pd.DataFrame()\n",
    "portfolio['Stock 1'],portfolio['Stock 2'],portfolio['Stock 3'],portfolio['Stock 4'],portfolio['Stock 5'] = data1['Close Price'],data2['Close Price'],data3['Close Price'],data4['Close Price'],data5['Close Price']\n",
    "print(portfolio.shape)"
   ]
  },
  {
   "cell_type": "code",
   "execution_count": 8,
   "metadata": {},
   "outputs": [
    {
     "data": {
      "text/html": [
       "<div>\n",
       "<style scoped>\n",
       "    .dataframe tbody tr th:only-of-type {\n",
       "        vertical-align: middle;\n",
       "    }\n",
       "\n",
       "    .dataframe tbody tr th {\n",
       "        vertical-align: top;\n",
       "    }\n",
       "\n",
       "    .dataframe thead th {\n",
       "        text-align: right;\n",
       "    }\n",
       "</style>\n",
       "<table border=\"1\" class=\"dataframe\">\n",
       "  <thead>\n",
       "    <tr style=\"text-align: right;\">\n",
       "      <th></th>\n",
       "      <th>Stock 1</th>\n",
       "      <th>Stock 2</th>\n",
       "      <th>Stock 3</th>\n",
       "      <th>Stock 4</th>\n",
       "      <th>Stock 5</th>\n",
       "    </tr>\n",
       "  </thead>\n",
       "  <tbody>\n",
       "    <tr>\n",
       "      <th>0</th>\n",
       "      <td>245.80</td>\n",
       "      <td>231.90</td>\n",
       "      <td>500.1</td>\n",
       "      <td>198.45</td>\n",
       "      <td>414.00</td>\n",
       "    </tr>\n",
       "    <tr>\n",
       "      <th>1</th>\n",
       "      <td>244.70</td>\n",
       "      <td>234.40</td>\n",
       "      <td>501.5</td>\n",
       "      <td>196.50</td>\n",
       "      <td>411.40</td>\n",
       "    </tr>\n",
       "    <tr>\n",
       "      <th>2</th>\n",
       "      <td>243.20</td>\n",
       "      <td>237.35</td>\n",
       "      <td>502.8</td>\n",
       "      <td>198.85</td>\n",
       "      <td>408.30</td>\n",
       "    </tr>\n",
       "    <tr>\n",
       "      <th>3</th>\n",
       "      <td>239.85</td>\n",
       "      <td>232.65</td>\n",
       "      <td>492.0</td>\n",
       "      <td>194.00</td>\n",
       "      <td>404.75</td>\n",
       "    </tr>\n",
       "    <tr>\n",
       "      <th>4</th>\n",
       "      <td>238.15</td>\n",
       "      <td>234.65</td>\n",
       "      <td>501.7</td>\n",
       "      <td>191.00</td>\n",
       "      <td>401.05</td>\n",
       "    </tr>\n",
       "  </tbody>\n",
       "</table>\n",
       "</div>"
      ],
      "text/plain": [
       "   Stock 1  Stock 2  Stock 3  Stock 4  Stock 5\n",
       "0   245.80   231.90    500.1   198.45   414.00\n",
       "1   244.70   234.40    501.5   196.50   411.40\n",
       "2   243.20   237.35    502.8   198.85   408.30\n",
       "3   239.85   232.65    492.0   194.00   404.75\n",
       "4   238.15   234.65    501.7   191.00   401.05"
      ]
     },
     "execution_count": 8,
     "metadata": {},
     "output_type": "execute_result"
    }
   ],
   "source": [
    "portfolio.head()"
   ]
  },
  {
   "cell_type": "code",
   "execution_count": 9,
   "metadata": {},
   "outputs": [],
   "source": [
    "portfolio['Daily Return Stock 1 %'] = portfolio['Stock 1'].pct_change() * 100\n",
    "portfolio['Daily Return Stock 2 %'] = portfolio['Stock 2'].pct_change() * 100\n",
    "portfolio['Daily Return Stock 3 %'] = portfolio['Stock 3'].pct_change() * 100\n",
    "portfolio['Daily Return Stock 4 %'] = portfolio['Stock 4'].pct_change() * 100\n",
    "portfolio['Daily Return Stock 5 %'] = portfolio['Stock 5'].pct_change() * 100"
   ]
  },
  {
   "cell_type": "code",
   "execution_count": 10,
   "metadata": {},
   "outputs": [
    {
     "data": {
      "text/html": [
       "<div>\n",
       "<style scoped>\n",
       "    .dataframe tbody tr th:only-of-type {\n",
       "        vertical-align: middle;\n",
       "    }\n",
       "\n",
       "    .dataframe tbody tr th {\n",
       "        vertical-align: top;\n",
       "    }\n",
       "\n",
       "    .dataframe thead th {\n",
       "        text-align: right;\n",
       "    }\n",
       "</style>\n",
       "<table border=\"1\" class=\"dataframe\">\n",
       "  <thead>\n",
       "    <tr style=\"text-align: right;\">\n",
       "      <th></th>\n",
       "      <th>Stock 1</th>\n",
       "      <th>Stock 2</th>\n",
       "      <th>Stock 3</th>\n",
       "      <th>Stock 4</th>\n",
       "      <th>Stock 5</th>\n",
       "      <th>Daily Return Stock 1 %</th>\n",
       "      <th>Daily Return Stock 2 %</th>\n",
       "      <th>Daily Return Stock 3 %</th>\n",
       "      <th>Daily Return Stock 4 %</th>\n",
       "      <th>Daily Return Stock 5 %</th>\n",
       "    </tr>\n",
       "  </thead>\n",
       "  <tbody>\n",
       "    <tr>\n",
       "      <th>0</th>\n",
       "      <td>245.80</td>\n",
       "      <td>231.90</td>\n",
       "      <td>500.1</td>\n",
       "      <td>198.45</td>\n",
       "      <td>414.00</td>\n",
       "      <td>0.000000</td>\n",
       "      <td>0.000000</td>\n",
       "      <td>0.000000</td>\n",
       "      <td>0.000000</td>\n",
       "      <td>0.000000</td>\n",
       "    </tr>\n",
       "    <tr>\n",
       "      <th>1</th>\n",
       "      <td>244.70</td>\n",
       "      <td>234.40</td>\n",
       "      <td>501.5</td>\n",
       "      <td>196.50</td>\n",
       "      <td>411.40</td>\n",
       "      <td>-0.447518</td>\n",
       "      <td>1.078051</td>\n",
       "      <td>0.279944</td>\n",
       "      <td>-0.982615</td>\n",
       "      <td>-0.628019</td>\n",
       "    </tr>\n",
       "    <tr>\n",
       "      <th>2</th>\n",
       "      <td>243.20</td>\n",
       "      <td>237.35</td>\n",
       "      <td>502.8</td>\n",
       "      <td>198.85</td>\n",
       "      <td>408.30</td>\n",
       "      <td>-0.612996</td>\n",
       "      <td>1.258532</td>\n",
       "      <td>0.259222</td>\n",
       "      <td>1.195929</td>\n",
       "      <td>-0.753525</td>\n",
       "    </tr>\n",
       "    <tr>\n",
       "      <th>3</th>\n",
       "      <td>239.85</td>\n",
       "      <td>232.65</td>\n",
       "      <td>492.0</td>\n",
       "      <td>194.00</td>\n",
       "      <td>404.75</td>\n",
       "      <td>-1.377467</td>\n",
       "      <td>-1.980198</td>\n",
       "      <td>-2.147971</td>\n",
       "      <td>-2.439024</td>\n",
       "      <td>-0.869459</td>\n",
       "    </tr>\n",
       "    <tr>\n",
       "      <th>4</th>\n",
       "      <td>238.15</td>\n",
       "      <td>234.65</td>\n",
       "      <td>501.7</td>\n",
       "      <td>191.00</td>\n",
       "      <td>401.05</td>\n",
       "      <td>-0.708776</td>\n",
       "      <td>0.859660</td>\n",
       "      <td>1.971545</td>\n",
       "      <td>-1.546392</td>\n",
       "      <td>-0.914145</td>\n",
       "    </tr>\n",
       "  </tbody>\n",
       "</table>\n",
       "</div>"
      ],
      "text/plain": [
       "   Stock 1  Stock 2  Stock 3  Stock 4  Stock 5  Daily Return Stock 1 %  \\\n",
       "0   245.80   231.90    500.1   198.45   414.00                0.000000   \n",
       "1   244.70   234.40    501.5   196.50   411.40               -0.447518   \n",
       "2   243.20   237.35    502.8   198.85   408.30               -0.612996   \n",
       "3   239.85   232.65    492.0   194.00   404.75               -1.377467   \n",
       "4   238.15   234.65    501.7   191.00   401.05               -0.708776   \n",
       "\n",
       "   Daily Return Stock 2 %  Daily Return Stock 3 %  Daily Return Stock 4 %  \\\n",
       "0                0.000000                0.000000                0.000000   \n",
       "1                1.078051                0.279944               -0.982615   \n",
       "2                1.258532                0.259222                1.195929   \n",
       "3               -1.980198               -2.147971               -2.439024   \n",
       "4                0.859660                1.971545               -1.546392   \n",
       "\n",
       "   Daily Return Stock 5 %  \n",
       "0                0.000000  \n",
       "1               -0.628019  \n",
       "2               -0.753525  \n",
       "3               -0.869459  \n",
       "4               -0.914145  "
      ]
     },
     "execution_count": 10,
     "metadata": {},
     "output_type": "execute_result"
    }
   ],
   "source": [
    "portfolio.fillna(0,inplace=True)\n",
    "portfolio.head()"
   ]
  },
  {
   "cell_type": "code",
   "execution_count": 11,
   "metadata": {},
   "outputs": [],
   "source": [
    "annual_returns = {}\n",
    "for i in range(1,6):\n",
    "    annual_returns['annual_mean_return_' + str(i)] = np.mean(portfolio[f'Daily Return Stock {str(i)} %'])"
   ]
  },
  {
   "cell_type": "code",
   "execution_count": 12,
   "metadata": {},
   "outputs": [
    {
     "name": "stdout",
     "output_type": "stream",
     "text": [
      "dict_values([-0.020388804515698866, -0.025465255618533803, 0.09316251816348649, 0.01966709343704466, -0.020811319431694904])\n"
     ]
    }
   ],
   "source": [
    "print(annual_returns.values())"
   ]
  },
  {
   "cell_type": "code",
   "execution_count": 13,
   "metadata": {},
   "outputs": [
    {
     "name": "stdout",
     "output_type": "stream",
     "text": [
      "The total annual return of portfolio is: 2.3266772945440204 %\n"
     ]
    }
   ],
   "source": [
    "total_port_annual_return = np.mean(list(annual_returns.values()))*252\n",
    "print(f'The total annual return of portfolio is: {total_port_annual_return} %')"
   ]
  },
  {
   "cell_type": "markdown",
   "metadata": {},
   "source": [
    "### Calculating Volatility"
   ]
  },
  {
   "cell_type": "code",
   "execution_count": 14,
   "metadata": {},
   "outputs": [],
   "source": [
    "annual_std = {}\n",
    "for i in range(1,6):\n",
    "    annual_std['annual_std_' + str(i)] = np.std(portfolio[f'Daily Return Stock {str(i)} %']) * np.sqrt(252)"
   ]
  },
  {
   "cell_type": "code",
   "execution_count": 15,
   "metadata": {},
   "outputs": [
    {
     "data": {
      "text/plain": [
       "dict_values([26.245227216270454, 30.98155598542862, 27.733332446145766, 33.580931163169325, 33.773895228746156])"
      ]
     },
     "execution_count": 15,
     "metadata": {},
     "output_type": "execute_result"
    }
   ],
   "source": [
    "annual_std.values()"
   ]
  },
  {
   "cell_type": "code",
   "execution_count": 16,
   "metadata": {},
   "outputs": [],
   "source": [
    "annual_variance = []\n",
    "for i in annual_std.keys():\n",
    "    annual_variance.append(annual_std[i]**2)"
   ]
  },
  {
   "cell_type": "code",
   "execution_count": 17,
   "metadata": {},
   "outputs": [
    {
     "data": {
      "text/plain": [
       "[688.8119516336634,\n",
       " 959.856811278248,\n",
       " 769.1377285684415,\n",
       " 1127.6789377855166,\n",
       " 1140.6759989223224]"
      ]
     },
     "execution_count": 17,
     "metadata": {},
     "output_type": "execute_result"
    }
   ],
   "source": [
    "annual_variance"
   ]
  },
  {
   "cell_type": "code",
   "execution_count": 18,
   "metadata": {},
   "outputs": [
    {
     "data": {
      "text/html": [
       "<div>\n",
       "<style scoped>\n",
       "    .dataframe tbody tr th:only-of-type {\n",
       "        vertical-align: middle;\n",
       "    }\n",
       "\n",
       "    .dataframe tbody tr th {\n",
       "        vertical-align: top;\n",
       "    }\n",
       "\n",
       "    .dataframe thead th {\n",
       "        text-align: right;\n",
       "    }\n",
       "</style>\n",
       "<table border=\"1\" class=\"dataframe\">\n",
       "  <thead>\n",
       "    <tr style=\"text-align: right;\">\n",
       "      <th></th>\n",
       "      <th>Daily Return Stock 1 %</th>\n",
       "      <th>Daily Return Stock 2 %</th>\n",
       "      <th>Daily Return Stock 3 %</th>\n",
       "      <th>Daily Return Stock 4 %</th>\n",
       "      <th>Daily Return Stock 5 %</th>\n",
       "    </tr>\n",
       "  </thead>\n",
       "  <tbody>\n",
       "    <tr>\n",
       "      <th>Daily Return Stock 1 %</th>\n",
       "      <td>2.738925</td>\n",
       "      <td>1.262564</td>\n",
       "      <td>0.629481</td>\n",
       "      <td>0.748506</td>\n",
       "      <td>0.842928</td>\n",
       "    </tr>\n",
       "    <tr>\n",
       "      <th>Daily Return Stock 2 %</th>\n",
       "      <td>1.262564</td>\n",
       "      <td>3.816682</td>\n",
       "      <td>0.779906</td>\n",
       "      <td>0.670469</td>\n",
       "      <td>0.685648</td>\n",
       "    </tr>\n",
       "    <tr>\n",
       "      <th>Daily Return Stock 3 %</th>\n",
       "      <td>0.629481</td>\n",
       "      <td>0.779906</td>\n",
       "      <td>3.058325</td>\n",
       "      <td>0.738138</td>\n",
       "      <td>0.275376</td>\n",
       "    </tr>\n",
       "    <tr>\n",
       "      <th>Daily Return Stock 4 %</th>\n",
       "      <td>0.748506</td>\n",
       "      <td>0.670469</td>\n",
       "      <td>0.738138</td>\n",
       "      <td>4.483993</td>\n",
       "      <td>0.374756</td>\n",
       "    </tr>\n",
       "    <tr>\n",
       "      <th>Daily Return Stock 5 %</th>\n",
       "      <td>0.842928</td>\n",
       "      <td>0.685648</td>\n",
       "      <td>0.275376</td>\n",
       "      <td>0.374756</td>\n",
       "      <td>4.535674</td>\n",
       "    </tr>\n",
       "  </tbody>\n",
       "</table>\n",
       "</div>"
      ],
      "text/plain": [
       "                        Daily Return Stock 1 %  Daily Return Stock 2 %  \\\n",
       "Daily Return Stock 1 %                2.738925                1.262564   \n",
       "Daily Return Stock 2 %                1.262564                3.816682   \n",
       "Daily Return Stock 3 %                0.629481                0.779906   \n",
       "Daily Return Stock 4 %                0.748506                0.670469   \n",
       "Daily Return Stock 5 %                0.842928                0.685648   \n",
       "\n",
       "                        Daily Return Stock 3 %  Daily Return Stock 4 %  \\\n",
       "Daily Return Stock 1 %                0.629481                0.748506   \n",
       "Daily Return Stock 2 %                0.779906                0.670469   \n",
       "Daily Return Stock 3 %                3.058325                0.738138   \n",
       "Daily Return Stock 4 %                0.738138                4.483993   \n",
       "Daily Return Stock 5 %                0.275376                0.374756   \n",
       "\n",
       "                        Daily Return Stock 5 %  \n",
       "Daily Return Stock 1 %                0.842928  \n",
       "Daily Return Stock 2 %                0.685648  \n",
       "Daily Return Stock 3 %                0.275376  \n",
       "Daily Return Stock 4 %                0.374756  \n",
       "Daily Return Stock 5 %                4.535674  "
      ]
     },
     "execution_count": 18,
     "metadata": {},
     "output_type": "execute_result"
    }
   ],
   "source": [
    "### Getting Covariance now\n",
    "\n",
    "cov = portfolio.iloc[:,5:].cov()\n",
    "cov"
   ]
  },
  {
   "cell_type": "code",
   "execution_count": 19,
   "metadata": {},
   "outputs": [
    {
     "data": {
      "text/plain": [
       "array([[2.73892514, 1.26256371, 0.62948074, 0.74850627, 0.84292763],\n",
       "       [1.26256371, 3.81668168, 0.77990576, 0.67046859, 0.68564767],\n",
       "       [0.62948074, 0.77990576, 3.05832478, 0.73813792, 0.27537637],\n",
       "       [0.74850627, 0.67046859, 0.73813792, 4.48399333, 0.3747565 ],\n",
       "       [0.84292763, 0.68564767, 0.27537637, 0.3747565 , 4.53567358]])"
      ]
     },
     "execution_count": 19,
     "metadata": {},
     "output_type": "execute_result"
    }
   ],
   "source": [
    "cov_arr = np.array(cov)\n",
    "cov_arr"
   ]
  },
  {
   "cell_type": "code",
   "execution_count": 20,
   "metadata": {},
   "outputs": [],
   "source": [
    "cov_dict = {}\n",
    "for i in range(0,5):\n",
    "    for j in range(i+1,5):\n",
    "        cov_dict[str(i) + '-' + str(j)] = cov_arr[i][j]"
   ]
  },
  {
   "cell_type": "code",
   "execution_count": 21,
   "metadata": {},
   "outputs": [
    {
     "data": {
      "text/plain": [
       "{'0-1': 1.262563706309035,\n",
       " '0-2': 0.6294807374552787,\n",
       " '0-3': 0.7485062733290422,\n",
       " '0-4': 0.8429276275882056,\n",
       " '1-2': 0.7799057582827755,\n",
       " '1-3': 0.6704685869347778,\n",
       " '1-4': 0.6856476704482576,\n",
       " '2-3': 0.7381379151358224,\n",
       " '2-4': 0.2753763747743198,\n",
       " '3-4': 0.37475649652995685}"
      ]
     },
     "execution_count": 21,
     "metadata": {},
     "output_type": "execute_result"
    }
   ],
   "source": [
    "cov_dict"
   ]
  },
  {
   "cell_type": "code",
   "execution_count": 22,
   "metadata": {},
   "outputs": [
    {
     "data": {
      "text/plain": [
       "7.007771146787471"
      ]
     },
     "execution_count": 22,
     "metadata": {},
     "output_type": "execute_result"
    }
   ],
   "source": [
    "sum_cov = 0\n",
    "for value in cov_dict.values():\n",
    "    sum_cov += value\n",
    "sum_cov"
   ]
  },
  {
   "cell_type": "code",
   "execution_count": 23,
   "metadata": {},
   "outputs": [],
   "source": [
    "weight = 0.2\n",
    "vol_sum = 0\n",
    "for i in range(5):\n",
    "    vol_sum += (weight ** 2) * (annual_variance[i])\n",
    "\n",
    "volatility_port = vol_sum + (2 * (weight**2) * sum_cov) \n",
    "volatility_port = np.sqrt(volatility_port)"
   ]
  },
  {
   "cell_type": "code",
   "execution_count": 24,
   "metadata": {},
   "outputs": [
    {
     "name": "stdout",
     "output_type": "stream",
     "text": [
      "The Total Annual Return of this Portfolio is: 2.327 %\n",
      "The Total Volatility for this Portfolio is: 13.712 %\n"
     ]
    }
   ],
   "source": [
    "print(f'The Total Annual Return of this Portfolio is: {np.round(total_port_annual_return,3)} %\\nThe Total Volatility for this Portfolio is: {np.round(volatility_port,3)} %')"
   ]
  },
  {
   "cell_type": "markdown",
   "metadata": {},
   "source": [
    "## 5.3"
   ]
  },
  {
   "cell_type": "code",
   "execution_count": 25,
   "metadata": {},
   "outputs": [
    {
     "data": {
      "text/html": [
       "<div>\n",
       "<style scoped>\n",
       "    .dataframe tbody tr th:only-of-type {\n",
       "        vertical-align: middle;\n",
       "    }\n",
       "\n",
       "    .dataframe tbody tr th {\n",
       "        vertical-align: top;\n",
       "    }\n",
       "\n",
       "    .dataframe thead th {\n",
       "        text-align: right;\n",
       "    }\n",
       "</style>\n",
       "<table border=\"1\" class=\"dataframe\">\n",
       "  <thead>\n",
       "    <tr style=\"text-align: right;\">\n",
       "      <th></th>\n",
       "      <th>Daily Return Stock 1 %</th>\n",
       "      <th>Daily Return Stock 2 %</th>\n",
       "      <th>Daily Return Stock 3 %</th>\n",
       "      <th>Daily Return Stock 4 %</th>\n",
       "      <th>Daily Return Stock 5 %</th>\n",
       "    </tr>\n",
       "  </thead>\n",
       "  <tbody>\n",
       "    <tr>\n",
       "      <th>0</th>\n",
       "      <td>0.000000</td>\n",
       "      <td>0.000000</td>\n",
       "      <td>0.000000</td>\n",
       "      <td>0.000000</td>\n",
       "      <td>0.000000</td>\n",
       "    </tr>\n",
       "    <tr>\n",
       "      <th>1</th>\n",
       "      <td>-0.447518</td>\n",
       "      <td>1.078051</td>\n",
       "      <td>0.279944</td>\n",
       "      <td>-0.982615</td>\n",
       "      <td>-0.628019</td>\n",
       "    </tr>\n",
       "    <tr>\n",
       "      <th>2</th>\n",
       "      <td>-0.612996</td>\n",
       "      <td>1.258532</td>\n",
       "      <td>0.259222</td>\n",
       "      <td>1.195929</td>\n",
       "      <td>-0.753525</td>\n",
       "    </tr>\n",
       "    <tr>\n",
       "      <th>3</th>\n",
       "      <td>-1.377467</td>\n",
       "      <td>-1.980198</td>\n",
       "      <td>-2.147971</td>\n",
       "      <td>-2.439024</td>\n",
       "      <td>-0.869459</td>\n",
       "    </tr>\n",
       "    <tr>\n",
       "      <th>4</th>\n",
       "      <td>-0.708776</td>\n",
       "      <td>0.859660</td>\n",
       "      <td>1.971545</td>\n",
       "      <td>-1.546392</td>\n",
       "      <td>-0.914145</td>\n",
       "    </tr>\n",
       "  </tbody>\n",
       "</table>\n",
       "</div>"
      ],
      "text/plain": [
       "   Daily Return Stock 1 %  Daily Return Stock 2 %  Daily Return Stock 3 %  \\\n",
       "0                0.000000                0.000000                0.000000   \n",
       "1               -0.447518                1.078051                0.279944   \n",
       "2               -0.612996                1.258532                0.259222   \n",
       "3               -1.377467               -1.980198               -2.147971   \n",
       "4               -0.708776                0.859660                1.971545   \n",
       "\n",
       "   Daily Return Stock 4 %  Daily Return Stock 5 %  \n",
       "0                0.000000                0.000000  \n",
       "1               -0.982615               -0.628019  \n",
       "2                1.195929               -0.753525  \n",
       "3               -2.439024               -0.869459  \n",
       "4               -1.546392               -0.914145  "
      ]
     },
     "execution_count": 25,
     "metadata": {},
     "output_type": "execute_result"
    }
   ],
   "source": [
    "varying_portfolio = portfolio.iloc[:,5:]\n",
    "varying_portfolio.head()"
   ]
  },
  {
   "cell_type": "code",
   "execution_count": 26,
   "metadata": {},
   "outputs": [
    {
     "data": {
      "text/plain": [
       "array([[ 0.        ,  0.        ,  0.        ,  0.        ,  0.        ],\n",
       "       [-0.44751831,  1.07805088,  0.27994401, -0.98261527, -0.62801932],\n",
       "       [-0.6129955 ,  1.25853242,  0.25922233,  1.19592875, -0.75352455],\n",
       "       ...,\n",
       "       [ 0.69594432, -3.36375489, -0.85596819, -0.22449489,  0.85925926],\n",
       "       [ 0.19065777,  3.04910955, -0.61182869, -0.925     ,  0.33783784],\n",
       "       [-1.14176974, -2.48756219,  0.55403557, -1.18597022, -2.78143756]])"
      ]
     },
     "execution_count": 26,
     "metadata": {},
     "output_type": "execute_result"
    }
   ],
   "source": [
    "np.array(varying_portfolio)"
   ]
  },
  {
   "cell_type": "code",
   "execution_count": 27,
   "metadata": {},
   "outputs": [
    {
     "data": {
      "text/html": [
       "<div>\n",
       "<style scoped>\n",
       "    .dataframe tbody tr th:only-of-type {\n",
       "        vertical-align: middle;\n",
       "    }\n",
       "\n",
       "    .dataframe tbody tr th {\n",
       "        vertical-align: top;\n",
       "    }\n",
       "\n",
       "    .dataframe thead th {\n",
       "        text-align: right;\n",
       "    }\n",
       "</style>\n",
       "<table border=\"1\" class=\"dataframe\">\n",
       "  <thead>\n",
       "    <tr style=\"text-align: right;\">\n",
       "      <th></th>\n",
       "      <th>0</th>\n",
       "      <th>1</th>\n",
       "      <th>2</th>\n",
       "      <th>3</th>\n",
       "      <th>4</th>\n",
       "    </tr>\n",
       "  </thead>\n",
       "  <tbody>\n",
       "    <tr>\n",
       "      <th>0</th>\n",
       "      <td>0.053994</td>\n",
       "      <td>0.502891</td>\n",
       "      <td>0.026112</td>\n",
       "      <td>0.378583</td>\n",
       "      <td>0.038420</td>\n",
       "    </tr>\n",
       "    <tr>\n",
       "      <th>1</th>\n",
       "      <td>0.249188</td>\n",
       "      <td>0.277993</td>\n",
       "      <td>0.078255</td>\n",
       "      <td>0.062127</td>\n",
       "      <td>0.332437</td>\n",
       "    </tr>\n",
       "    <tr>\n",
       "      <th>2</th>\n",
       "      <td>0.227425</td>\n",
       "      <td>0.417465</td>\n",
       "      <td>0.095060</td>\n",
       "      <td>0.044928</td>\n",
       "      <td>0.215122</td>\n",
       "    </tr>\n",
       "    <tr>\n",
       "      <th>3</th>\n",
       "      <td>0.245584</td>\n",
       "      <td>0.217402</td>\n",
       "      <td>0.122270</td>\n",
       "      <td>0.121424</td>\n",
       "      <td>0.293320</td>\n",
       "    </tr>\n",
       "    <tr>\n",
       "      <th>4</th>\n",
       "      <td>0.352272</td>\n",
       "      <td>0.052284</td>\n",
       "      <td>0.307942</td>\n",
       "      <td>0.240740</td>\n",
       "      <td>0.046762</td>\n",
       "    </tr>\n",
       "  </tbody>\n",
       "</table>\n",
       "</div>"
      ],
      "text/plain": [
       "          0         1         2         3         4\n",
       "0  0.053994  0.502891  0.026112  0.378583  0.038420\n",
       "1  0.249188  0.277993  0.078255  0.062127  0.332437\n",
       "2  0.227425  0.417465  0.095060  0.044928  0.215122\n",
       "3  0.245584  0.217402  0.122270  0.121424  0.293320\n",
       "4  0.352272  0.052284  0.307942  0.240740  0.046762"
      ]
     },
     "execution_count": 27,
     "metadata": {},
     "output_type": "execute_result"
    }
   ],
   "source": [
    "s = np.array(np.random.rand(494,5))\n",
    "for i in range(len(s)):\n",
    "    s[i] = s[i] * (1/np.sum(s[i]))\n",
    "np.sum(s,axis=1)\n",
    "s = pd.DataFrame(s)\n",
    "s.head()"
   ]
  },
  {
   "cell_type": "code",
   "execution_count": 28,
   "metadata": {},
   "outputs": [
    {
     "name": "stderr",
     "output_type": "stream",
     "text": [
      "/home/vibe/.local/lib/python3.6/site-packages/ipykernel_launcher.py:5: DeprecationWarning: \n",
      ".ix is deprecated. Please use\n",
      ".loc for label based indexing or\n",
      ".iloc for positional indexing\n",
      "\n",
      "See the documentation here:\n",
      "http://pandas.pydata.org/pandas-docs/stable/indexing.html#ix-indexer-is-deprecated\n",
      "  \"\"\"\n",
      "/home/vibe/.local/lib/python3.6/site-packages/ipykernel_launcher.py:6: DeprecationWarning: \n",
      ".ix is deprecated. Please use\n",
      ".loc for label based indexing or\n",
      ".iloc for positional indexing\n",
      "\n",
      "See the documentation here:\n",
      "http://pandas.pydata.org/pandas-docs/stable/indexing.html#ix-indexer-is-deprecated\n",
      "  \n"
     ]
    },
    {
     "data": {
      "text/html": [
       "<div>\n",
       "<style scoped>\n",
       "    .dataframe tbody tr th:only-of-type {\n",
       "        vertical-align: middle;\n",
       "    }\n",
       "\n",
       "    .dataframe tbody tr th {\n",
       "        vertical-align: top;\n",
       "    }\n",
       "\n",
       "    .dataframe thead th {\n",
       "        text-align: right;\n",
       "    }\n",
       "</style>\n",
       "<table border=\"1\" class=\"dataframe\">\n",
       "  <thead>\n",
       "    <tr style=\"text-align: right;\">\n",
       "      <th></th>\n",
       "      <th>0</th>\n",
       "      <th>1</th>\n",
       "      <th>2</th>\n",
       "      <th>3</th>\n",
       "      <th>4</th>\n",
       "      <th>Expected Return</th>\n",
       "      <th>Volatility</th>\n",
       "      <th>Sharpe</th>\n",
       "    </tr>\n",
       "  </thead>\n",
       "  <tbody>\n",
       "    <tr>\n",
       "      <th>0</th>\n",
       "      <td>0.053994</td>\n",
       "      <td>0.502891</td>\n",
       "      <td>0.026112</td>\n",
       "      <td>0.378583</td>\n",
       "      <td>0.038420</td>\n",
       "      <td>-1.216742</td>\n",
       "      <td>22.746923</td>\n",
       "      <td>-0.053490</td>\n",
       "    </tr>\n",
       "    <tr>\n",
       "      <th>1</th>\n",
       "      <td>0.249188</td>\n",
       "      <td>0.277993</td>\n",
       "      <td>0.078255</td>\n",
       "      <td>0.062127</td>\n",
       "      <td>0.332437</td>\n",
       "      <td>-2.662634</td>\n",
       "      <td>19.967949</td>\n",
       "      <td>-0.133345</td>\n",
       "    </tr>\n",
       "    <tr>\n",
       "      <th>2</th>\n",
       "      <td>0.227425</td>\n",
       "      <td>0.417465</td>\n",
       "      <td>0.095060</td>\n",
       "      <td>0.044928</td>\n",
       "      <td>0.215122</td>\n",
       "      <td>-2.521282</td>\n",
       "      <td>20.389993</td>\n",
       "      <td>-0.123653</td>\n",
       "    </tr>\n",
       "    <tr>\n",
       "      <th>3</th>\n",
       "      <td>0.245584</td>\n",
       "      <td>0.217402</td>\n",
       "      <td>0.122270</td>\n",
       "      <td>0.121424</td>\n",
       "      <td>0.293320</td>\n",
       "      <td>-0.722910</td>\n",
       "      <td>18.890967</td>\n",
       "      <td>-0.038267</td>\n",
       "    </tr>\n",
       "    <tr>\n",
       "      <th>4</th>\n",
       "      <td>0.352272</td>\n",
       "      <td>0.052284</td>\n",
       "      <td>0.307942</td>\n",
       "      <td>0.240740</td>\n",
       "      <td>0.046762</td>\n",
       "      <td>6.031962</td>\n",
       "      <td>18.891453</td>\n",
       "      <td>0.319296</td>\n",
       "    </tr>\n",
       "  </tbody>\n",
       "</table>\n",
       "</div>"
      ],
      "text/plain": [
       "          0         1         2         3         4  Expected Return  \\\n",
       "0  0.053994  0.502891  0.026112  0.378583  0.038420        -1.216742   \n",
       "1  0.249188  0.277993  0.078255  0.062127  0.332437        -2.662634   \n",
       "2  0.227425  0.417465  0.095060  0.044928  0.215122        -2.521282   \n",
       "3  0.245584  0.217402  0.122270  0.121424  0.293320        -0.722910   \n",
       "4  0.352272  0.052284  0.307942  0.240740  0.046762         6.031962   \n",
       "\n",
       "   Volatility    Sharpe  \n",
       "0   22.746923 -0.053490  \n",
       "1   19.967949 -0.133345  \n",
       "2   20.389993 -0.123653  \n",
       "3   18.890967 -0.038267  \n",
       "4   18.891453  0.319296  "
      ]
     },
     "execution_count": 28,
     "metadata": {},
     "output_type": "execute_result"
    }
   ],
   "source": [
    "s['Expected Return'] = 1.0\n",
    "s['Volatility'] = 1.0\n",
    "s['Sharpe'] = 1.0\n",
    "for i in s.index:\n",
    "    s['Expected Return'][i] = np.mean(np.dot(np.array(varying_portfolio),(np.array(s.ix[i,:-3])))) * 252\n",
    "    s['Volatility'][i] = np.std(np.dot(np.array(varying_portfolio),(np.array(s.ix[i,:-3])))) * np.sqrt(252)\n",
    "    s['Sharpe'][i] = s['Expected Return'][i]/s['Volatility'][i]\n",
    "s.head()"
   ]
  },
  {
   "cell_type": "code",
   "execution_count": 29,
   "metadata": {},
   "outputs": [
    {
     "data": {
      "image/png": "[encoded data removed]",
      "text/plain": [
       "<Figure size 576x396 with 2 Axes>"
      ]
     },
     "metadata": {},
     "output_type": "display_data"
    }
   ],
   "source": [
    "import matplotlib.colors\n",
    "my_cmap = 'RdYlBu'\n",
    "\n",
    "plt.style.use('seaborn')\n",
    "x,y,z = s['Volatility'],s['Expected Return'],s.Sharpe\n",
    "plt.scatter(x,y,c=z,cmap = my_cmap)\n",
    "plt.xlabel('Volatility')\n",
    "plt.ylabel('Returns')\n",
    "plt.colorbar()\n",
    "plt.show()"
   ]
  },
  {
   "cell_type": "markdown",
   "metadata": {},
   "source": [
    "## 5.4"
   ]
  },
  {
   "cell_type": "code",
   "execution_count": 30,
   "metadata": {},
   "outputs": [],
   "source": [
    "min_vol_idx = s.Volatility.idxmin()\n",
    "max_shape_idx = s.Sharpe.idxmax()"
   ]
  },
  {
   "cell_type": "code",
   "execution_count": 31,
   "metadata": {},
   "outputs": [
    {
     "data": {
      "image/png": "[encoded data removed]",
      "text/plain": [
       "<Figure size 576x396 with 2 Axes>"
      ]
     },
     "metadata": {},
     "output_type": "display_data"
    }
   ],
   "source": [
    "plt.scatter(x,y,c=z,cmap = my_cmap)\n",
    "plt.plot(x[min_vol_idx],y[min_vol_idx],'g*',markersize = 15)\n",
    "plt.plot(x[max_shape_idx],y[max_shape_idx],'r*',markersize = 15)\n",
    "plt.xlabel('Volatility')\n",
    "plt.ylabel('Returns')\n",
    "plt.colorbar()\n",
    "plt.show()"
   ]
  }
 ],
 "metadata": {
  "kernelspec": {
   "display_name": "Python 3",
   "language": "python",
   "name": "python3"
  },
  "language_info": {
   "codemirror_mode": {
    "name": "ipython",
    "version": 3
   },
   "file_extension": ".py",
   "mimetype": "text/x-python",
   "name": "python",
   "nbconvert_exporter": "python",
   "pygments_lexer": "ipython3",
   "version": "3.6.9"
  }
 },
 "nbformat": 4,
 "nbformat_minor": 2
}
