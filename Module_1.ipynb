{
 "cells": [
  {
   "cell_type": "code",
   "execution_count": 3,
   "metadata": {},
   "outputs": [],
   "source": [
    "import numpy as np\n",
    "import pandas as pd\n",
    "import datetime as dt\n",
    "from datetime import date,timedelta"
   ]
  },
  {
   "cell_type": "markdown",
   "metadata": {},
   "source": [
    "### 1.1"
   ]
  },
  {
   "cell_type": "code",
   "execution_count": 4,
   "metadata": {},
   "outputs": [
    {
     "data": {
      "text/html": [
       "<div>\n",
       "<style scoped>\n",
       "    .dataframe tbody tr th:only-of-type {\n",
       "        vertical-align: middle;\n",
       "    }\n",
       "\n",
       "    .dataframe tbody tr th {\n",
       "        vertical-align: top;\n",
       "    }\n",
       "\n",
       "    .dataframe thead th {\n",
       "        text-align: right;\n",
       "    }\n",
       "</style>\n",
       "<table border=\"1\" class=\"dataframe\">\n",
       "  <thead>\n",
       "    <tr style=\"text-align: right;\">\n",
       "      <th></th>\n",
       "      <th>Symbol</th>\n",
       "      <th>Series</th>\n",
       "      <th>Date</th>\n",
       "      <th>Prev Close</th>\n",
       "      <th>Open Price</th>\n",
       "      <th>High Price</th>\n",
       "      <th>Low Price</th>\n",
       "      <th>Last Price</th>\n",
       "      <th>Close Price</th>\n",
       "      <th>Average Price</th>\n",
       "      <th>Total Traded Quantity</th>\n",
       "      <th>Turnover</th>\n",
       "      <th>No. of Trades</th>\n",
       "      <th>Deliverable Qty</th>\n",
       "      <th>% Dly Qt to Traded Qty</th>\n",
       "    </tr>\n",
       "  </thead>\n",
       "  <tbody>\n",
       "    <tr>\n",
       "      <th>0</th>\n",
       "      <td>MARUTI</td>\n",
       "      <td>EQ</td>\n",
       "      <td>15-May-2017</td>\n",
       "      <td>6730.20</td>\n",
       "      <td>6759.4</td>\n",
       "      <td>6839.10</td>\n",
       "      <td>6733.45</td>\n",
       "      <td>6824.0</td>\n",
       "      <td>6823.90</td>\n",
       "      <td>6796.84</td>\n",
       "      <td>336356</td>\n",
       "      <td>2.286158e+09</td>\n",
       "      <td>31377</td>\n",
       "      <td>154743</td>\n",
       "      <td>46.01</td>\n",
       "    </tr>\n",
       "    <tr>\n",
       "      <th>1</th>\n",
       "      <td>MARUTI</td>\n",
       "      <td>EQ</td>\n",
       "      <td>16-May-2017</td>\n",
       "      <td>6823.90</td>\n",
       "      <td>6850.0</td>\n",
       "      <td>6977.55</td>\n",
       "      <td>6830.00</td>\n",
       "      <td>6968.4</td>\n",
       "      <td>6953.95</td>\n",
       "      <td>6902.22</td>\n",
       "      <td>707624</td>\n",
       "      <td>4.884174e+09</td>\n",
       "      <td>49047</td>\n",
       "      <td>360641</td>\n",
       "      <td>50.97</td>\n",
       "    </tr>\n",
       "    <tr>\n",
       "      <th>2</th>\n",
       "      <td>MARUTI</td>\n",
       "      <td>EQ</td>\n",
       "      <td>17-May-2017</td>\n",
       "      <td>6953.95</td>\n",
       "      <td>6950.0</td>\n",
       "      <td>6979.00</td>\n",
       "      <td>6885.85</td>\n",
       "      <td>6945.0</td>\n",
       "      <td>6958.20</td>\n",
       "      <td>6931.60</td>\n",
       "      <td>445461</td>\n",
       "      <td>3.087758e+09</td>\n",
       "      <td>65280</td>\n",
       "      <td>260033</td>\n",
       "      <td>58.37</td>\n",
       "    </tr>\n",
       "    <tr>\n",
       "      <th>3</th>\n",
       "      <td>MARUTI</td>\n",
       "      <td>EQ</td>\n",
       "      <td>18-May-2017</td>\n",
       "      <td>6958.20</td>\n",
       "      <td>6918.3</td>\n",
       "      <td>6948.00</td>\n",
       "      <td>6814.45</td>\n",
       "      <td>6822.0</td>\n",
       "      <td>6831.05</td>\n",
       "      <td>6869.68</td>\n",
       "      <td>406814</td>\n",
       "      <td>2.794684e+09</td>\n",
       "      <td>37063</td>\n",
       "      <td>188907</td>\n",
       "      <td>46.44</td>\n",
       "    </tr>\n",
       "    <tr>\n",
       "      <th>4</th>\n",
       "      <td>MARUTI</td>\n",
       "      <td>EQ</td>\n",
       "      <td>19-May-2017</td>\n",
       "      <td>6831.05</td>\n",
       "      <td>6854.8</td>\n",
       "      <td>6893.90</td>\n",
       "      <td>6691.55</td>\n",
       "      <td>6756.3</td>\n",
       "      <td>6790.55</td>\n",
       "      <td>6791.60</td>\n",
       "      <td>552223</td>\n",
       "      <td>3.750475e+09</td>\n",
       "      <td>64293</td>\n",
       "      <td>234662</td>\n",
       "      <td>42.49</td>\n",
       "    </tr>\n",
       "  </tbody>\n",
       "</table>\n",
       "</div>"
      ],
      "text/plain": [
       "   Symbol Series         Date  Prev Close  Open Price  High Price  Low Price  \\\n",
       "0  MARUTI     EQ  15-May-2017     6730.20      6759.4     6839.10    6733.45   \n",
       "1  MARUTI     EQ  16-May-2017     6823.90      6850.0     6977.55    6830.00   \n",
       "2  MARUTI     EQ  17-May-2017     6953.95      6950.0     6979.00    6885.85   \n",
       "3  MARUTI     EQ  18-May-2017     6958.20      6918.3     6948.00    6814.45   \n",
       "4  MARUTI     EQ  19-May-2017     6831.05      6854.8     6893.90    6691.55   \n",
       "\n",
       "   Last Price  Close Price  Average Price  Total Traded Quantity  \\\n",
       "0      6824.0      6823.90        6796.84                 336356   \n",
       "1      6968.4      6953.95        6902.22                 707624   \n",
       "2      6945.0      6958.20        6931.60                 445461   \n",
       "3      6822.0      6831.05        6869.68                 406814   \n",
       "4      6756.3      6790.55        6791.60                 552223   \n",
       "\n",
       "       Turnover  No. of Trades  Deliverable Qty  % Dly Qt to Traded Qty  \n",
       "0  2.286158e+09          31377           154743                   46.01  \n",
       "1  4.884174e+09          49047           360641                   50.97  \n",
       "2  3.087758e+09          65280           260033                   58.37  \n",
       "3  2.794684e+09          37063           188907                   46.44  \n",
       "4  3.750475e+09          64293           234662                   42.49  "
      ]
     },
     "execution_count": 4,
     "metadata": {},
     "output_type": "execute_result"
    }
   ],
   "source": [
    "stock_df = pd.read_csv(\"MARUTI.csv\");\n",
    "stock_df.head()"
   ]
  },
  {
   "cell_type": "code",
   "execution_count": 5,
   "metadata": {},
   "outputs": [],
   "source": [
    "stock_df.drop(stock_df[stock_df[\"Series\"] != \"EQ\"].index,inplace = True)"
   ]
  },
  {
   "cell_type": "code",
   "execution_count": 6,
   "metadata": {},
   "outputs": [
    {
     "data": {
      "text/plain": [
       "EQ    494\n",
       "Name: Series, dtype: int64"
      ]
     },
     "execution_count": 6,
     "metadata": {},
     "output_type": "execute_result"
    }
   ],
   "source": [
    "stock_df[\"Series\"].value_counts()"
   ]
  },
  {
   "cell_type": "markdown",
   "metadata": {},
   "source": [
    "### 1.2"
   ]
  },
  {
   "cell_type": "code",
   "execution_count": 7,
   "metadata": {},
   "outputs": [],
   "source": [
    "price = \"Close Price\""
   ]
  },
  {
   "cell_type": "code",
   "execution_count": 8,
   "metadata": {},
   "outputs": [
    {
     "data": {
      "text/plain": [
       "7492.9"
      ]
     },
     "execution_count": 8,
     "metadata": {},
     "output_type": "execute_result"
    }
   ],
   "source": [
    "stock_df.tail(90)[price].max()"
   ]
  },
  {
   "cell_type": "code",
   "execution_count": 9,
   "metadata": {},
   "outputs": [
    {
     "data": {
      "text/plain": [
       "6511.05"
      ]
     },
     "execution_count": 9,
     "metadata": {},
     "output_type": "execute_result"
    }
   ],
   "source": [
    "stock_df.tail(90)[price].min()"
   ]
  },
  {
   "cell_type": "code",
   "execution_count": 10,
   "metadata": {},
   "outputs": [
    {
     "data": {
      "text/plain": [
       "7002.3499999999985"
      ]
     },
     "execution_count": 10,
     "metadata": {},
     "output_type": "execute_result"
    }
   ],
   "source": [
    "stock_df.tail(90)[price].mean()"
   ]
  },
  {
   "cell_type": "markdown",
   "metadata": {},
   "source": [
    "### 1.3"
   ]
  },
  {
   "cell_type": "code",
   "execution_count": 11,
   "metadata": {},
   "outputs": [
    {
     "name": "stdout",
     "output_type": "stream",
     "text": [
      "<class 'pandas.core.frame.DataFrame'>\n",
      "Int64Index: 494 entries, 0 to 495\n",
      "Data columns (total 15 columns):\n",
      "Symbol                    494 non-null object\n",
      "Series                    494 non-null object\n",
      "Date                      494 non-null object\n",
      "Prev Close                494 non-null float64\n",
      "Open Price                494 non-null float64\n",
      "High Price                494 non-null float64\n",
      "Low Price                 494 non-null float64\n",
      "Last Price                494 non-null float64\n",
      "Close Price               494 non-null float64\n",
      "Average Price             494 non-null float64\n",
      "Total Traded Quantity     494 non-null int64\n",
      "Turnover                  494 non-null float64\n",
      "No. of Trades             494 non-null int64\n",
      "Deliverable Qty           494 non-null int64\n",
      "% Dly Qt to Traded Qty    494 non-null float64\n",
      "dtypes: float64(9), int64(3), object(3)\n",
      "memory usage: 61.8+ KB\n"
     ]
    }
   ],
   "source": [
    "stock_df.info()"
   ]
  },
  {
   "cell_type": "code",
   "execution_count": 12,
   "metadata": {},
   "outputs": [],
   "source": [
    "stock_df[\"Date\"] = stock_df[\"Date\"].astype('datetime64[ns]')"
   ]
  },
  {
   "cell_type": "code",
   "execution_count": 13,
   "metadata": {},
   "outputs": [
    {
     "data": {
      "text/plain": [
       "Timedelta('728 days 00:00:00')"
      ]
     },
     "execution_count": 13,
     "metadata": {},
     "output_type": "execute_result"
    }
   ],
   "source": [
    "max_date = stock_df[\"Date\"].max()\n",
    "min_date = stock_df[\"Date\"].min()\n",
    "max_date - min_date"
   ]
  },
  {
   "cell_type": "markdown",
   "metadata": {},
   "source": [
    "### 1.4"
   ]
  },
  {
   "cell_type": "code",
   "execution_count": 14,
   "metadata": {},
   "outputs": [],
   "source": [
    "volume = \"Total Traded Quantity\"\n",
    "avg_price = \"Average Price\""
   ]
  },
  {
   "cell_type": "code",
   "execution_count": 15,
   "metadata": {},
   "outputs": [],
   "source": [
    "stock_df[\"month\"] = stock_df[\"Date\"].dt.month\n",
    "stock_df[\"year\"] = stock_df[\"Date\"].dt.year\n",
    "stock_df[\"vwap\"] = (stock_df[avg_price]*stock_df[volume]).cumsum()/stock_df[volume].cumsum()"
   ]
  },
  {
   "cell_type": "code",
   "execution_count": 16,
   "metadata": {},
   "outputs": [
    {
     "data": {
      "text/html": [
       "<div>\n",
       "<style scoped>\n",
       "    .dataframe tbody tr th:only-of-type {\n",
       "        vertical-align: middle;\n",
       "    }\n",
       "\n",
       "    .dataframe tbody tr th {\n",
       "        vertical-align: top;\n",
       "    }\n",
       "\n",
       "    .dataframe thead th {\n",
       "        text-align: right;\n",
       "    }\n",
       "</style>\n",
       "<table border=\"1\" class=\"dataframe\">\n",
       "  <thead>\n",
       "    <tr style=\"text-align: right;\">\n",
       "      <th></th>\n",
       "      <th></th>\n",
       "      <th>vwap</th>\n",
       "    </tr>\n",
       "    <tr>\n",
       "      <th>month</th>\n",
       "      <th>year</th>\n",
       "      <th></th>\n",
       "    </tr>\n",
       "  </thead>\n",
       "  <tbody>\n",
       "    <tr>\n",
       "      <th rowspan=\"2\" valign=\"top\">1</th>\n",
       "      <th>2018</th>\n",
       "      <td>7979.186671</td>\n",
       "    </tr>\n",
       "    <tr>\n",
       "      <th>2019</th>\n",
       "      <td>8215.398491</td>\n",
       "    </tr>\n",
       "    <tr>\n",
       "      <th rowspan=\"2\" valign=\"top\">2</th>\n",
       "      <th>2018</th>\n",
       "      <td>8195.696447</td>\n",
       "    </tr>\n",
       "    <tr>\n",
       "      <th>2019</th>\n",
       "      <td>8109.359429</td>\n",
       "    </tr>\n",
       "    <tr>\n",
       "      <th rowspan=\"2\" valign=\"top\">3</th>\n",
       "      <th>2018</th>\n",
       "      <td>8277.381302</td>\n",
       "    </tr>\n",
       "    <tr>\n",
       "      <th>2019</th>\n",
       "      <td>8052.176442</td>\n",
       "    </tr>\n",
       "    <tr>\n",
       "      <th rowspan=\"2\" valign=\"top\">4</th>\n",
       "      <th>2018</th>\n",
       "      <td>8325.867893</td>\n",
       "    </tr>\n",
       "    <tr>\n",
       "      <th>2019</th>\n",
       "      <td>7974.266697</td>\n",
       "    </tr>\n",
       "    <tr>\n",
       "      <th rowspan=\"3\" valign=\"top\">5</th>\n",
       "      <th>2017</th>\n",
       "      <td>6796.840000</td>\n",
       "    </tr>\n",
       "    <tr>\n",
       "      <th>2018</th>\n",
       "      <td>8386.603337</td>\n",
       "    </tr>\n",
       "    <tr>\n",
       "      <th>2019</th>\n",
       "      <td>7908.685449</td>\n",
       "    </tr>\n",
       "    <tr>\n",
       "      <th rowspan=\"2\" valign=\"top\">6</th>\n",
       "      <th>2017</th>\n",
       "      <td>6960.104354</td>\n",
       "    </tr>\n",
       "    <tr>\n",
       "      <th>2018</th>\n",
       "      <td>8407.439123</td>\n",
       "    </tr>\n",
       "    <tr>\n",
       "      <th rowspan=\"2\" valign=\"top\">7</th>\n",
       "      <th>2017</th>\n",
       "      <td>7144.453344</td>\n",
       "    </tr>\n",
       "    <tr>\n",
       "      <th>2018</th>\n",
       "      <td>8434.812392</td>\n",
       "    </tr>\n",
       "    <tr>\n",
       "      <th rowspan=\"2\" valign=\"top\">8</th>\n",
       "      <th>2017</th>\n",
       "      <td>7289.709725</td>\n",
       "    </tr>\n",
       "    <tr>\n",
       "      <th>2018</th>\n",
       "      <td>8513.112594</td>\n",
       "    </tr>\n",
       "    <tr>\n",
       "      <th rowspan=\"2\" valign=\"top\">9</th>\n",
       "      <th>2017</th>\n",
       "      <td>7374.503822</td>\n",
       "    </tr>\n",
       "    <tr>\n",
       "      <th>2018</th>\n",
       "      <td>8561.582159</td>\n",
       "    </tr>\n",
       "    <tr>\n",
       "      <th rowspan=\"2\" valign=\"top\">10</th>\n",
       "      <th>2017</th>\n",
       "      <td>7492.609167</td>\n",
       "    </tr>\n",
       "    <tr>\n",
       "      <th>2018</th>\n",
       "      <td>8518.204278</td>\n",
       "    </tr>\n",
       "    <tr>\n",
       "      <th rowspan=\"2\" valign=\"top\">11</th>\n",
       "      <th>2017</th>\n",
       "      <td>7576.616623</td>\n",
       "    </tr>\n",
       "    <tr>\n",
       "      <th>2018</th>\n",
       "      <td>8340.133221</td>\n",
       "    </tr>\n",
       "    <tr>\n",
       "      <th rowspan=\"2\" valign=\"top\">12</th>\n",
       "      <th>2017</th>\n",
       "      <td>7677.533737</td>\n",
       "    </tr>\n",
       "    <tr>\n",
       "      <th>2018</th>\n",
       "      <td>8263.665516</td>\n",
       "    </tr>\n",
       "  </tbody>\n",
       "</table>\n",
       "</div>"
      ],
      "text/plain": [
       "                   vwap\n",
       "month year             \n",
       "1     2018  7979.186671\n",
       "      2019  8215.398491\n",
       "2     2018  8195.696447\n",
       "      2019  8109.359429\n",
       "3     2018  8277.381302\n",
       "      2019  8052.176442\n",
       "4     2018  8325.867893\n",
       "      2019  7974.266697\n",
       "5     2017  6796.840000\n",
       "      2018  8386.603337\n",
       "      2019  7908.685449\n",
       "6     2017  6960.104354\n",
       "      2018  8407.439123\n",
       "7     2017  7144.453344\n",
       "      2018  8434.812392\n",
       "8     2017  7289.709725\n",
       "      2018  8513.112594\n",
       "9     2017  7374.503822\n",
       "      2018  8561.582159\n",
       "10    2017  7492.609167\n",
       "      2018  8518.204278\n",
       "11    2017  7576.616623\n",
       "      2018  8340.133221\n",
       "12    2017  7677.533737\n",
       "      2018  8263.665516"
      ]
     },
     "execution_count": 16,
     "metadata": {},
     "output_type": "execute_result"
    }
   ],
   "source": [
    "temp = stock_df[['month','year','vwap']]\n",
    "group = temp.groupby(['month','year'])\n",
    "group.first()"
   ]
  },
  {
   "cell_type": "markdown",
   "metadata": {},
   "source": [
    "### 1.5"
   ]
  },
  {
   "cell_type": "code",
   "execution_count": 17,
   "metadata": {},
   "outputs": [],
   "source": [
    "def get_avg_price(N):\n",
    "    return (stock_df[avg_price].tail(N).sum())/N\n",
    "\n",
    "def get_prof_loss(N):\n",
    "    diff = (stock_df[price].tail(N).iloc[N-1] - stock_df[price].tail(N).iloc[0])\n",
    "    pct =  (diff/stock_df[price].tail(N).iloc[N-1])*100\n",
    "    return pct"
   ]
  },
  {
   "cell_type": "code",
   "execution_count": 18,
   "metadata": {},
   "outputs": [
    {
     "name": "stdout",
     "output_type": "stream",
     "text": [
      "Average prices for last N days: \n",
      "Last 1 week 6672.562857142856\n",
      "Last 2 weeks 6812.567857142857\n",
      "Last 1 month 6942.477666666667\n",
      "Last 3 months 6939.252166666666\n",
      "Last 6 months 7377.399388888888\n",
      "Last 1 year 8218.08895890411\n"
     ]
    }
   ],
   "source": [
    "print(\"Average prices for last N days: \")\n",
    "print(\"Last 1 week\",get_avg_price(7))\n",
    "print(\"Last 2 weeks\",get_avg_price(14))\n",
    "print(\"Last 1 month\",get_avg_price(30))\n",
    "print(\"Last 3 months\",get_avg_price(60))\n",
    "print(\"Last 6 months\",get_avg_price(180))\n",
    "print(\"Last 1 year\",get_avg_price(365))"
   ]
  },
  {
   "cell_type": "code",
   "execution_count": 19,
   "metadata": {},
   "outputs": [
    {
     "name": "stdout",
     "output_type": "stream",
     "text": [
      "Profit/Loss % for N days:\n",
      "Last 1 week -2.5405921680993315\n",
      "Last 2 weeks -11.881566380133716\n",
      "Last 1 month 0.393505253104107\n",
      "Last 3 months -9.690926456542497\n",
      "Last 6 months -39.5621776504298\n",
      "Last 1 year -27.577459407831906\n"
     ]
    }
   ],
   "source": [
    "print(\"Profit/Loss % for N days:\")\n",
    "print(\"Last 1 week\",get_prof_loss(7))\n",
    "print(\"Last 2 weeks\",get_prof_loss(14))\n",
    "print(\"Last 1 month\",get_prof_loss(30))\n",
    "print(\"Last 3 months\",get_prof_loss(60))\n",
    "print(\"Last 6 months\",get_prof_loss(180))\n",
    "print(\"Last 1 year\",get_prof_loss(365))"
   ]
  },
  {
   "cell_type": "markdown",
   "metadata": {},
   "source": [
    "### 1.6"
   ]
  },
  {
   "cell_type": "code",
   "execution_count": 20,
   "metadata": {},
   "outputs": [
    {
     "data": {
      "text/plain": [
       "0    0.000000\n",
       "1    1.905802\n",
       "2    0.061116\n",
       "3   -1.827340\n",
       "4   -0.592881\n",
       "Name: Day_Perc_Change, dtype: float64"
      ]
     },
     "execution_count": 20,
     "metadata": {},
     "output_type": "execute_result"
    }
   ],
   "source": [
    "stock_df['Day_Perc_Change'] = stock_df[price].pct_change().fillna(0)*100\n",
    "stock_df['Day_Perc_Change'].head()"
   ]
  },
  {
   "cell_type": "markdown",
   "metadata": {},
   "source": [
    "### 1.7"
   ]
  },
  {
   "cell_type": "code",
   "execution_count": 21,
   "metadata": {},
   "outputs": [],
   "source": [
    "def between(num,a,b):\n",
    "    if a<=num<=b:\n",
    "        return True\n",
    "    return False\n",
    "    \n",
    "def fill_trend(x):\n",
    "    if between(x,-0.5,0.5):\n",
    "        return 'Slight or No change'\n",
    "    if between(x,0.5,1):\n",
    "        return 'Slight positive'\n",
    "    if between(x,-1,-0.5):\n",
    "        return 'Slight negative'\n",
    "    if between(x,1,3):\n",
    "        return 'Positive'\n",
    "    if between(x,-3,-1):\n",
    "        return 'Negative'\n",
    "    if between(x,3,7):\n",
    "        return 'Among top gainers'\n",
    "    if between(x,-7,-3):\n",
    "        return 'Among top losers'\n",
    "    if x>7:\n",
    "        return 'Bull run'\n",
    "    if x<-7:\n",
    "        return 'Bear drop'\n",
    "\n",
    "stock_df['Trend'] = stock_df['Day_Perc_Change'].apply(fill_trend)"
   ]
  },
  {
   "cell_type": "code",
   "execution_count": 23,
   "metadata": {
    "scrolled": true
   },
   "outputs": [],
   "source": [
    "# stock_df[['Trend','Day_Perc_Change']]"
   ]
  },
  {
   "cell_type": "markdown",
   "metadata": {},
   "source": [
    "### 1.8"
   ]
  },
  {
   "cell_type": "code",
   "execution_count": 24,
   "metadata": {},
   "outputs": [
    {
     "data": {
      "text/html": [
       "<div>\n",
       "<style scoped>\n",
       "    .dataframe tbody tr th:only-of-type {\n",
       "        vertical-align: middle;\n",
       "    }\n",
       "\n",
       "    .dataframe tbody tr th {\n",
       "        vertical-align: top;\n",
       "    }\n",
       "\n",
       "    .dataframe thead th {\n",
       "        text-align: right;\n",
       "    }\n",
       "</style>\n",
       "<table border=\"1\" class=\"dataframe\">\n",
       "  <thead>\n",
       "    <tr style=\"text-align: right;\">\n",
       "      <th></th>\n",
       "      <th>average</th>\n",
       "      <th>median</th>\n",
       "    </tr>\n",
       "    <tr>\n",
       "      <th>Trend</th>\n",
       "      <th></th>\n",
       "      <th></th>\n",
       "    </tr>\n",
       "  </thead>\n",
       "  <tbody>\n",
       "    <tr>\n",
       "      <th>Among top gainers</th>\n",
       "      <td>1.258625e+06</td>\n",
       "      <td>1112945.0</td>\n",
       "    </tr>\n",
       "    <tr>\n",
       "      <th>Among top losers</th>\n",
       "      <td>1.299222e+06</td>\n",
       "      <td>1261317.0</td>\n",
       "    </tr>\n",
       "    <tr>\n",
       "      <th>Bear drop</th>\n",
       "      <td>3.062762e+06</td>\n",
       "      <td>3062762.0</td>\n",
       "    </tr>\n",
       "    <tr>\n",
       "      <th>Negative</th>\n",
       "      <td>7.172756e+05</td>\n",
       "      <td>637870.5</td>\n",
       "    </tr>\n",
       "    <tr>\n",
       "      <th>Positive</th>\n",
       "      <td>6.491532e+05</td>\n",
       "      <td>635222.0</td>\n",
       "    </tr>\n",
       "    <tr>\n",
       "      <th>Slight negative</th>\n",
       "      <td>5.407549e+05</td>\n",
       "      <td>481985.0</td>\n",
       "    </tr>\n",
       "    <tr>\n",
       "      <th>Slight or No change</th>\n",
       "      <td>4.780758e+05</td>\n",
       "      <td>407874.5</td>\n",
       "    </tr>\n",
       "    <tr>\n",
       "      <th>Slight positive</th>\n",
       "      <td>5.383773e+05</td>\n",
       "      <td>465479.0</td>\n",
       "    </tr>\n",
       "  </tbody>\n",
       "</table>\n",
       "</div>"
      ],
      "text/plain": [
       "                          average     median\n",
       "Trend                                       \n",
       "Among top gainers    1.258625e+06  1112945.0\n",
       "Among top losers     1.299222e+06  1261317.0\n",
       "Bear drop            3.062762e+06  3062762.0\n",
       "Negative             7.172756e+05   637870.5\n",
       "Positive             6.491532e+05   635222.0\n",
       "Slight negative      5.407549e+05   481985.0\n",
       "Slight or No change  4.780758e+05   407874.5\n",
       "Slight positive      5.383773e+05   465479.0"
      ]
     },
     "execution_count": 24,
     "metadata": {},
     "output_type": "execute_result"
    }
   ],
   "source": [
    "stock_df.groupby('Trend')[volume].agg([np.average,np.median])"
   ]
  },
  {
   "cell_type": "markdown",
   "metadata": {},
   "source": [
    "### 1.9"
   ]
  },
  {
   "cell_type": "code",
   "execution_count": 25,
   "metadata": {},
   "outputs": [],
   "source": [
    "stock_df.to_csv('week2.csv')"
   ]
  }
 ],
 "metadata": {
  "kernelspec": {
   "display_name": "Python 3",
   "language": "python",
   "name": "python3"
  },
  "language_info": {
   "codemirror_mode": {
    "name": "ipython",
    "version": 3
   },
   "file_extension": ".py",
   "mimetype": "text/x-python",
   "name": "python",
   "nbconvert_exporter": "python",
   "pygments_lexer": "ipython3",
   "version": "3.6.9"
  }
 },
 "nbformat": 4,
 "nbformat_minor": 2
}
