{
 "cells": [
  {
   "cell_type": "code",
   "execution_count": 1,
   "metadata": {},
   "outputs": [],
   "source": [
    "import numpy as np\n",
    "import pandas as pd\n",
    "import matplotlib.pyplot as plt\n",
    "import seaborn as sns\n",
    "import os"
   ]
  },
  {
   "cell_type": "markdown",
   "metadata": {},
   "source": [
    "## 6.1"
   ]
  },
  {
   "cell_type": "code",
   "execution_count": 2,
   "metadata": {},
   "outputs": [
    {
     "data": {
      "text/html": [
       "<div>\n",
       "<style scoped>\n",
       "    .dataframe tbody tr th:only-of-type {\n",
       "        vertical-align: middle;\n",
       "    }\n",
       "\n",
       "    .dataframe tbody tr th {\n",
       "        vertical-align: top;\n",
       "    }\n",
       "\n",
       "    .dataframe thead th {\n",
       "        text-align: right;\n",
       "    }\n",
       "</style>\n",
       "<table border=\"1\" class=\"dataframe\">\n",
       "  <thead>\n",
       "    <tr style=\"text-align: right;\">\n",
       "      <th></th>\n",
       "      <th>LUXIND</th>\n",
       "      <th>NCC</th>\n",
       "      <th>VENKEYS</th>\n",
       "      <th>LALPATHLAB</th>\n",
       "      <th>ITDC</th>\n",
       "      <th>BAJAJELEC</th>\n",
       "      <th>SONATSOFTW</th>\n",
       "      <th>WELSPUNIND</th>\n",
       "      <th>IRCON</th>\n",
       "      <th>LEMONTREE</th>\n",
       "      <th>...</th>\n",
       "      <th>HDFCBANK</th>\n",
       "      <th>TCS</th>\n",
       "      <th>HEROMOTOCO</th>\n",
       "      <th>BAJFINANCE</th>\n",
       "      <th>TITAN</th>\n",
       "      <th>MARUTI</th>\n",
       "      <th>SUNPHARMA</th>\n",
       "      <th>INFRATEL</th>\n",
       "      <th>HINDALCO</th>\n",
       "      <th>INFY</th>\n",
       "    </tr>\n",
       "  </thead>\n",
       "  <tbody>\n",
       "    <tr>\n",
       "      <th>0</th>\n",
       "      <td>819.60</td>\n",
       "      <td>97.35</td>\n",
       "      <td>1169.70</td>\n",
       "      <td>900.60</td>\n",
       "      <td>650.15</td>\n",
       "      <td>341.15</td>\n",
       "      <td>162.65</td>\n",
       "      <td>90.25</td>\n",
       "      <td>415.3</td>\n",
       "      <td>71.65</td>\n",
       "      <td>...</td>\n",
       "      <td>1553.40</td>\n",
       "      <td>2365.10</td>\n",
       "      <td>3515.45</td>\n",
       "      <td>1332.95</td>\n",
       "      <td>483.65</td>\n",
       "      <td>6823.90</td>\n",
       "      <td>654.45</td>\n",
       "      <td>371.05</td>\n",
       "      <td>198.45</td>\n",
       "      <td>951.55</td>\n",
       "    </tr>\n",
       "    <tr>\n",
       "      <th>1</th>\n",
       "      <td>817.50</td>\n",
       "      <td>100.40</td>\n",
       "      <td>1177.00</td>\n",
       "      <td>910.95</td>\n",
       "      <td>636.70</td>\n",
       "      <td>347.00</td>\n",
       "      <td>158.60</td>\n",
       "      <td>90.65</td>\n",
       "      <td>427.0</td>\n",
       "      <td>66.85</td>\n",
       "      <td>...</td>\n",
       "      <td>NaN</td>\n",
       "      <td>2429.15</td>\n",
       "      <td>3619.40</td>\n",
       "      <td>1347.75</td>\n",
       "      <td>488.30</td>\n",
       "      <td>6953.95</td>\n",
       "      <td>652.35</td>\n",
       "      <td>376.55</td>\n",
       "      <td>196.50</td>\n",
       "      <td>955.00</td>\n",
       "    </tr>\n",
       "    <tr>\n",
       "      <th>2</th>\n",
       "      <td>819.80</td>\n",
       "      <td>101.45</td>\n",
       "      <td>1188.00</td>\n",
       "      <td>911.70</td>\n",
       "      <td>626.75</td>\n",
       "      <td>349.85</td>\n",
       "      <td>158.25</td>\n",
       "      <td>88.85</td>\n",
       "      <td>421.4</td>\n",
       "      <td>66.95</td>\n",
       "      <td>...</td>\n",
       "      <td>1559.65</td>\n",
       "      <td>2455.35</td>\n",
       "      <td>3645.95</td>\n",
       "      <td>1324.80</td>\n",
       "      <td>481.75</td>\n",
       "      <td>6958.20</td>\n",
       "      <td>650.90</td>\n",
       "      <td>389.90</td>\n",
       "      <td>198.85</td>\n",
       "      <td>952.80</td>\n",
       "    </tr>\n",
       "    <tr>\n",
       "      <th>3</th>\n",
       "      <td>820.05</td>\n",
       "      <td>97.00</td>\n",
       "      <td>1156.90</td>\n",
       "      <td>909.75</td>\n",
       "      <td>604.65</td>\n",
       "      <td>334.10</td>\n",
       "      <td>157.40</td>\n",
       "      <td>86.90</td>\n",
       "      <td>407.1</td>\n",
       "      <td>66.40</td>\n",
       "      <td>...</td>\n",
       "      <td>1557.15</td>\n",
       "      <td>2536.20</td>\n",
       "      <td>3592.05</td>\n",
       "      <td>1314.55</td>\n",
       "      <td>471.65</td>\n",
       "      <td>6831.05</td>\n",
       "      <td>653.95</td>\n",
       "      <td>378.90</td>\n",
       "      <td>194.00</td>\n",
       "      <td>961.75</td>\n",
       "    </tr>\n",
       "    <tr>\n",
       "      <th>4</th>\n",
       "      <td>817.80</td>\n",
       "      <td>95.45</td>\n",
       "      <td>1161.65</td>\n",
       "      <td>910.25</td>\n",
       "      <td>594.30</td>\n",
       "      <td>336.20</td>\n",
       "      <td>151.90</td>\n",
       "      <td>85.05</td>\n",
       "      <td>399.8</td>\n",
       "      <td>67.70</td>\n",
       "      <td>...</td>\n",
       "      <td>NaN</td>\n",
       "      <td>2507.15</td>\n",
       "      <td>3571.65</td>\n",
       "      <td>1289.15</td>\n",
       "      <td>471.15</td>\n",
       "      <td>6790.55</td>\n",
       "      <td>653.15</td>\n",
       "      <td>378.95</td>\n",
       "      <td>191.00</td>\n",
       "      <td>957.95</td>\n",
       "    </tr>\n",
       "  </tbody>\n",
       "</table>\n",
       "<p>5 rows × 30 columns</p>\n",
       "</div>"
      ],
      "text/plain": [
       "   LUXIND     NCC  VENKEYS  LALPATHLAB    ITDC  BAJAJELEC  SONATSOFTW  \\\n",
       "0  819.60   97.35  1169.70      900.60  650.15     341.15      162.65   \n",
       "1  817.50  100.40  1177.00      910.95  636.70     347.00      158.60   \n",
       "2  819.80  101.45  1188.00      911.70  626.75     349.85      158.25   \n",
       "3  820.05   97.00  1156.90      909.75  604.65     334.10      157.40   \n",
       "4  817.80   95.45  1161.65      910.25  594.30     336.20      151.90   \n",
       "\n",
       "   WELSPUNIND  IRCON  LEMONTREE  ...  HDFCBANK      TCS  HEROMOTOCO  \\\n",
       "0       90.25  415.3      71.65  ...   1553.40  2365.10     3515.45   \n",
       "1       90.65  427.0      66.85  ...       NaN  2429.15     3619.40   \n",
       "2       88.85  421.4      66.95  ...   1559.65  2455.35     3645.95   \n",
       "3       86.90  407.1      66.40  ...   1557.15  2536.20     3592.05   \n",
       "4       85.05  399.8      67.70  ...       NaN  2507.15     3571.65   \n",
       "\n",
       "   BAJFINANCE   TITAN   MARUTI  SUNPHARMA  INFRATEL  HINDALCO    INFY  \n",
       "0     1332.95  483.65  6823.90     654.45    371.05    198.45  951.55  \n",
       "1     1347.75  488.30  6953.95     652.35    376.55    196.50  955.00  \n",
       "2     1324.80  481.75  6958.20     650.90    389.90    198.85  952.80  \n",
       "3     1314.55  471.65  6831.05     653.95    378.90    194.00  961.75  \n",
       "4     1289.15  471.15  6790.55     653.15    378.95    191.00  957.95  \n",
       "\n",
       "[5 rows x 30 columns]"
      ]
     },
     "execution_count": 2,
     "metadata": {},
     "output_type": "execute_result"
    }
   ],
   "source": [
    "caps = ['Small_Cap','Mid_Cap','Large_Cap']\n",
    "stock = {}\n",
    "for cap in caps:\n",
    "    for i in range(10):\n",
    "        file = os.listdir(cap)[i]\n",
    "        temp = pd.read_csv(cap+'/'+file)\n",
    "        temp = temp[temp.Series=='EQ']\n",
    "        stock[file[:-4]] = temp['Close Price']\n",
    "stock = pd.DataFrame(stock)\n",
    "stock.head()"
   ]
  },
  {
   "cell_type": "markdown",
   "metadata": {},
   "source": [
    "## 6.2"
   ]
  },
  {
   "cell_type": "code",
   "execution_count": 3,
   "metadata": {},
   "outputs": [],
   "source": [
    "daily_returns = stock.pct_change()*100"
   ]
  },
  {
   "cell_type": "code",
   "execution_count": 4,
   "metadata": {},
   "outputs": [
    {
     "data": {
      "text/html": [
       "<div>\n",
       "<style scoped>\n",
       "    .dataframe tbody tr th:only-of-type {\n",
       "        vertical-align: middle;\n",
       "    }\n",
       "\n",
       "    .dataframe tbody tr th {\n",
       "        vertical-align: top;\n",
       "    }\n",
       "\n",
       "    .dataframe thead th {\n",
       "        text-align: right;\n",
       "    }\n",
       "</style>\n",
       "<table border=\"1\" class=\"dataframe\">\n",
       "  <thead>\n",
       "    <tr style=\"text-align: right;\">\n",
       "      <th></th>\n",
       "      <th>LUXIND</th>\n",
       "      <th>NCC</th>\n",
       "      <th>VENKEYS</th>\n",
       "      <th>LALPATHLAB</th>\n",
       "      <th>ITDC</th>\n",
       "      <th>BAJAJELEC</th>\n",
       "      <th>SONATSOFTW</th>\n",
       "      <th>WELSPUNIND</th>\n",
       "      <th>IRCON</th>\n",
       "      <th>LEMONTREE</th>\n",
       "      <th>...</th>\n",
       "      <th>HDFCBANK</th>\n",
       "      <th>TCS</th>\n",
       "      <th>HEROMOTOCO</th>\n",
       "      <th>BAJFINANCE</th>\n",
       "      <th>TITAN</th>\n",
       "      <th>MARUTI</th>\n",
       "      <th>SUNPHARMA</th>\n",
       "      <th>INFRATEL</th>\n",
       "      <th>HINDALCO</th>\n",
       "      <th>INFY</th>\n",
       "    </tr>\n",
       "  </thead>\n",
       "  <tbody>\n",
       "    <tr>\n",
       "      <th>0</th>\n",
       "      <td>NaN</td>\n",
       "      <td>NaN</td>\n",
       "      <td>NaN</td>\n",
       "      <td>NaN</td>\n",
       "      <td>NaN</td>\n",
       "      <td>NaN</td>\n",
       "      <td>NaN</td>\n",
       "      <td>NaN</td>\n",
       "      <td>NaN</td>\n",
       "      <td>NaN</td>\n",
       "      <td>...</td>\n",
       "      <td>NaN</td>\n",
       "      <td>NaN</td>\n",
       "      <td>NaN</td>\n",
       "      <td>NaN</td>\n",
       "      <td>NaN</td>\n",
       "      <td>NaN</td>\n",
       "      <td>NaN</td>\n",
       "      <td>NaN</td>\n",
       "      <td>NaN</td>\n",
       "      <td>NaN</td>\n",
       "    </tr>\n",
       "    <tr>\n",
       "      <th>1</th>\n",
       "      <td>-0.256223</td>\n",
       "      <td>3.133025</td>\n",
       "      <td>0.624092</td>\n",
       "      <td>1.149234</td>\n",
       "      <td>-2.068753</td>\n",
       "      <td>1.714788</td>\n",
       "      <td>-2.490009</td>\n",
       "      <td>0.443213</td>\n",
       "      <td>2.817241</td>\n",
       "      <td>-6.699232</td>\n",
       "      <td>...</td>\n",
       "      <td>0.000000</td>\n",
       "      <td>2.708131</td>\n",
       "      <td>2.956947</td>\n",
       "      <td>1.110319</td>\n",
       "      <td>0.961439</td>\n",
       "      <td>1.905802</td>\n",
       "      <td>-0.320880</td>\n",
       "      <td>1.482280</td>\n",
       "      <td>-0.982615</td>\n",
       "      <td>0.362566</td>\n",
       "    </tr>\n",
       "    <tr>\n",
       "      <th>2</th>\n",
       "      <td>0.281346</td>\n",
       "      <td>1.045817</td>\n",
       "      <td>0.934579</td>\n",
       "      <td>0.082332</td>\n",
       "      <td>-1.562745</td>\n",
       "      <td>0.821326</td>\n",
       "      <td>-0.220681</td>\n",
       "      <td>-1.985659</td>\n",
       "      <td>-1.311475</td>\n",
       "      <td>0.149589</td>\n",
       "      <td>...</td>\n",
       "      <td>0.402343</td>\n",
       "      <td>1.078567</td>\n",
       "      <td>0.733547</td>\n",
       "      <td>-1.702838</td>\n",
       "      <td>-1.341388</td>\n",
       "      <td>0.061116</td>\n",
       "      <td>-0.222273</td>\n",
       "      <td>3.545346</td>\n",
       "      <td>1.195929</td>\n",
       "      <td>-0.230366</td>\n",
       "    </tr>\n",
       "    <tr>\n",
       "      <th>3</th>\n",
       "      <td>0.030495</td>\n",
       "      <td>-4.386397</td>\n",
       "      <td>-2.617845</td>\n",
       "      <td>-0.213886</td>\n",
       "      <td>-3.526127</td>\n",
       "      <td>-4.501929</td>\n",
       "      <td>-0.537125</td>\n",
       "      <td>-2.194710</td>\n",
       "      <td>-3.393450</td>\n",
       "      <td>-0.821509</td>\n",
       "      <td>...</td>\n",
       "      <td>-0.160292</td>\n",
       "      <td>3.292810</td>\n",
       "      <td>-1.478353</td>\n",
       "      <td>-0.773702</td>\n",
       "      <td>-2.096523</td>\n",
       "      <td>-1.827340</td>\n",
       "      <td>0.468582</td>\n",
       "      <td>-2.821236</td>\n",
       "      <td>-2.439024</td>\n",
       "      <td>0.939337</td>\n",
       "    </tr>\n",
       "    <tr>\n",
       "      <th>4</th>\n",
       "      <td>-0.274374</td>\n",
       "      <td>-1.597938</td>\n",
       "      <td>0.410580</td>\n",
       "      <td>0.054960</td>\n",
       "      <td>-1.711734</td>\n",
       "      <td>0.628554</td>\n",
       "      <td>-3.494282</td>\n",
       "      <td>-2.128884</td>\n",
       "      <td>-1.793171</td>\n",
       "      <td>1.957831</td>\n",
       "      <td>...</td>\n",
       "      <td>0.000000</td>\n",
       "      <td>-1.145414</td>\n",
       "      <td>-0.567921</td>\n",
       "      <td>-1.932220</td>\n",
       "      <td>-0.106011</td>\n",
       "      <td>-0.592881</td>\n",
       "      <td>-0.122334</td>\n",
       "      <td>0.013196</td>\n",
       "      <td>-1.546392</td>\n",
       "      <td>-0.395113</td>\n",
       "    </tr>\n",
       "  </tbody>\n",
       "</table>\n",
       "<p>5 rows × 30 columns</p>\n",
       "</div>"
      ],
      "text/plain": [
       "     LUXIND       NCC   VENKEYS  LALPATHLAB      ITDC  BAJAJELEC  SONATSOFTW  \\\n",
       "0       NaN       NaN       NaN         NaN       NaN        NaN         NaN   \n",
       "1 -0.256223  3.133025  0.624092    1.149234 -2.068753   1.714788   -2.490009   \n",
       "2  0.281346  1.045817  0.934579    0.082332 -1.562745   0.821326   -0.220681   \n",
       "3  0.030495 -4.386397 -2.617845   -0.213886 -3.526127  -4.501929   -0.537125   \n",
       "4 -0.274374 -1.597938  0.410580    0.054960 -1.711734   0.628554   -3.494282   \n",
       "\n",
       "   WELSPUNIND     IRCON  LEMONTREE  ...  HDFCBANK       TCS  HEROMOTOCO  \\\n",
       "0         NaN       NaN        NaN  ...       NaN       NaN         NaN   \n",
       "1    0.443213  2.817241  -6.699232  ...  0.000000  2.708131    2.956947   \n",
       "2   -1.985659 -1.311475   0.149589  ...  0.402343  1.078567    0.733547   \n",
       "3   -2.194710 -3.393450  -0.821509  ... -0.160292  3.292810   -1.478353   \n",
       "4   -2.128884 -1.793171   1.957831  ...  0.000000 -1.145414   -0.567921   \n",
       "\n",
       "   BAJFINANCE     TITAN    MARUTI  SUNPHARMA  INFRATEL  HINDALCO      INFY  \n",
       "0         NaN       NaN       NaN        NaN       NaN       NaN       NaN  \n",
       "1    1.110319  0.961439  1.905802  -0.320880  1.482280 -0.982615  0.362566  \n",
       "2   -1.702838 -1.341388  0.061116  -0.222273  3.545346  1.195929 -0.230366  \n",
       "3   -0.773702 -2.096523 -1.827340   0.468582 -2.821236 -2.439024  0.939337  \n",
       "4   -1.932220 -0.106011 -0.592881  -0.122334  0.013196 -1.546392 -0.395113  \n",
       "\n",
       "[5 rows x 30 columns]"
      ]
     },
     "execution_count": 4,
     "metadata": {},
     "output_type": "execute_result"
    }
   ],
   "source": [
    "daily_returns.head()"
   ]
  },
  {
   "cell_type": "code",
   "execution_count": 5,
   "metadata": {},
   "outputs": [],
   "source": [
    "daily_returns = daily_returns.dropna()"
   ]
  },
  {
   "cell_type": "code",
   "execution_count": 6,
   "metadata": {},
   "outputs": [],
   "source": [
    "annual_returns = {}\n",
    "annual_volatility = {}\n",
    "for i in daily_returns.columns:\n",
    "    annual_returns[i] = daily_returns[i].mean()*252\n",
    "    annual_volatility[i] = daily_returns[i].std()* np.sqrt(252)"
   ]
  },
  {
   "cell_type": "code",
   "execution_count": 7,
   "metadata": {},
   "outputs": [
    {
     "data": {
      "text/plain": [
       "(30, 30)"
      ]
     },
     "execution_count": 7,
     "metadata": {},
     "output_type": "execute_result"
    }
   ],
   "source": [
    "len(annual_returns),len(annual_volatility)"
   ]
  },
  {
   "cell_type": "code",
   "execution_count": 8,
   "metadata": {},
   "outputs": [],
   "source": [
    "# annual_returns,annual_volatility"
   ]
  },
  {
   "cell_type": "code",
   "execution_count": 9,
   "metadata": {},
   "outputs": [
    {
     "data": {
      "text/html": [
       "<div>\n",
       "<style scoped>\n",
       "    .dataframe tbody tr th:only-of-type {\n",
       "        vertical-align: middle;\n",
       "    }\n",
       "\n",
       "    .dataframe tbody tr th {\n",
       "        vertical-align: top;\n",
       "    }\n",
       "\n",
       "    .dataframe thead th {\n",
       "        text-align: right;\n",
       "    }\n",
       "</style>\n",
       "<table border=\"1\" class=\"dataframe\">\n",
       "  <thead>\n",
       "    <tr style=\"text-align: right;\">\n",
       "      <th></th>\n",
       "      <th>Annual_Return</th>\n",
       "      <th>Annual_Volatility</th>\n",
       "    </tr>\n",
       "    <tr>\n",
       "      <th>Stock</th>\n",
       "      <th></th>\n",
       "      <th></th>\n",
       "    </tr>\n",
       "  </thead>\n",
       "  <tbody>\n",
       "    <tr>\n",
       "      <th>LUXIND</th>\n",
       "      <td>20.689850</td>\n",
       "      <td>30.203523</td>\n",
       "    </tr>\n",
       "    <tr>\n",
       "      <th>NCC</th>\n",
       "      <td>4.814287</td>\n",
       "      <td>40.083695</td>\n",
       "    </tr>\n",
       "    <tr>\n",
       "      <th>VENKEYS</th>\n",
       "      <td>30.951209</td>\n",
       "      <td>56.491309</td>\n",
       "    </tr>\n",
       "    <tr>\n",
       "      <th>LALPATHLAB</th>\n",
       "      <td>6.148558</td>\n",
       "      <td>23.808391</td>\n",
       "    </tr>\n",
       "    <tr>\n",
       "      <th>ITDC</th>\n",
       "      <td>-29.951805</td>\n",
       "      <td>47.523134</td>\n",
       "    </tr>\n",
       "  </tbody>\n",
       "</table>\n",
       "</div>"
      ],
      "text/plain": [
       "            Annual_Return  Annual_Volatility\n",
       "Stock                                       \n",
       "LUXIND          20.689850          30.203523\n",
       "NCC              4.814287          40.083695\n",
       "VENKEYS         30.951209          56.491309\n",
       "LALPATHLAB       6.148558          23.808391\n",
       "ITDC           -29.951805          47.523134"
      ]
     },
     "execution_count": 9,
     "metadata": {},
     "output_type": "execute_result"
    }
   ],
   "source": [
    "res_df = pd.DataFrame(annual_returns.items(), columns=['Stock','Annual_Return'])\n",
    "res_df = res_df.set_index('Stock')\n",
    "res_df['Annual_Volatility'] = annual_volatility.values()\n",
    "res_df.head()"
   ]
  },
  {
   "cell_type": "markdown",
   "metadata": {},
   "source": [
    "## 6.3"
   ]
  },
  {
   "cell_type": "code",
   "execution_count": 10,
   "metadata": {},
   "outputs": [],
   "source": [
    "from sklearn.cluster import KMeans"
   ]
  },
  {
   "cell_type": "code",
   "execution_count": 11,
   "metadata": {},
   "outputs": [
    {
     "data": {
      "image/png": "[encoded data removed]",
      "text/plain": [
       "<Figure size 1080x360 with 2 Axes>"
      ]
     },
     "metadata": {
      "needs_background": "light"
     },
     "output_type": "display_data"
    }
   ],
   "source": [
    "from scipy.spatial.distance import cdist\n",
    "inertias = {}\n",
    "distortions = {}\n",
    "for k in range(1, 10):\n",
    "    kmeans = KMeans(n_clusters=k, max_iter=1000).fit(res_df)\n",
    "    inertias[k] = kmeans.inertia_\n",
    "    distortions[k] = sum(np.min(cdist(res_df, kmeans.cluster_centers_,'euclidean'),axis=1)) / res_df.shape[0]\n",
    "plt.figure(figsize=(15,5))\n",
    "plt.subplot(1, 2, 1)\n",
    "plt.plot(list(inertias.keys()), list(inertias.values()))\n",
    "plt.xlabel(\"Number of cluster\")\n",
    "plt.title('Inertias')\n",
    "plt.subplot(1, 2, 2)\n",
    "plt.plot(list(distortions.keys()),list(distortions.values()))\n",
    "plt.xlabel(\"Number of cluster\")\n",
    "plt.title('Distortions')\n",
    "plt.tight_layout()\n",
    "plt.show()"
   ]
  },
  {
   "cell_type": "markdown",
   "metadata": {},
   "source": [
    "From the above plots, it can be inferred that the k value must be 3"
   ]
  },
  {
   "cell_type": "code",
   "execution_count": 12,
   "metadata": {},
   "outputs": [
    {
     "data": {
      "text/plain": [
       "array([1, 0, 1, 0, 2, 1, 1, 2, 0, 0, 0, 2, 0, 2, 0, 1, 2, 1, 2, 0, 0, 0,\n",
       "       2, 1, 1, 0, 2, 2, 0, 0], dtype=int32)"
      ]
     },
     "execution_count": 12,
     "metadata": {},
     "output_type": "execute_result"
    }
   ],
   "source": [
    "clusters = KMeans(n_clusters=3).fit(res_df)\n",
    "labels = clusters.labels_\n",
    "labels"
   ]
  },
  {
   "cell_type": "code",
   "execution_count": 13,
   "metadata": {},
   "outputs": [
    {
     "data": {
      "image/png": "[encoded data removed]",
      "text/plain": [
       "<Figure size 1080x360 with 1 Axes>"
      ]
     },
     "metadata": {
      "needs_background": "light"
     },
     "output_type": "display_data"
    }
   ],
   "source": [
    "plt.figure(figsize=(15,5))\n",
    "sns.scatterplot(res_df.Annual_Return, res_df.Annual_Volatility,hue=labels,palette='Set1',s=100)\n",
    "for i in range(len(res_df)):\n",
    "    plt.text(res_df.Annual_Return[i], res_df.Annual_Volatility[i], res_df.index[i],fontsize = 8)"
   ]
  }
 ],
 "metadata": {
  "kernelspec": {
   "display_name": "Python 3",
   "language": "python",
   "name": "python3"
  },
  "language_info": {
   "codemirror_mode": {
    "name": "ipython",
    "version": 3
   },
   "file_extension": ".py",
   "mimetype": "text/x-python",
   "name": "python",
   "nbconvert_exporter": "python",
   "pygments_lexer": "ipython3",
   "version": "3.6.9"
  }
 },
 "nbformat": 4,
 "nbformat_minor": 2
}
